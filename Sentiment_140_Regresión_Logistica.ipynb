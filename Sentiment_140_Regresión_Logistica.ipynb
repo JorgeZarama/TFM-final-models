{
  "cells": [
    {
      "cell_type": "markdown",
      "metadata": {
        "id": "view-in-github",
        "colab_type": "text"
      },
      "source": [
        "<a href=\"https://colab.research.google.com/github/JorgeZarama/TFM-final-models/blob/main/Sentiment_140_Regresi%C3%B3n_Logistica.ipynb\" target=\"_parent\"><img src=\"https://colab.research.google.com/assets/colab-badge.svg\" alt=\"Open In Colab\"/></a>"
      ]
    },
    {
      "cell_type": "markdown",
      "id": "4acda3ae",
      "metadata": {
        "id": "4acda3ae"
      },
      "source": [
        "## Análisis de Sentimiento Conjunto de Datos Sentiment 140"
      ]
    },
    {
      "cell_type": "markdown",
      "id": "0290f7f4",
      "metadata": {
        "id": "0290f7f4"
      },
      "source": [
        "Vamos a ocupar el Sentiment 140\n",
        "https://www.kaggle.com/datasets/kazanova/sentiment140/code"
      ]
    },
    {
      "cell_type": "code",
      "execution_count": null,
      "id": "c87e9bea",
      "metadata": {
        "scrolled": true,
        "id": "c87e9bea",
        "outputId": "2828d815-c0c9-472d-b616-02d621967ba6"
      },
      "outputs": [
        {
          "name": "stderr",
          "output_type": "stream",
          "text": [
            "[nltk_data] Downloading package stopwords to\n",
            "[nltk_data]     C:\\Users\\jorge\\AppData\\Roaming\\nltk_data...\n",
            "[nltk_data]   Package stopwords is already up-to-date!\n",
            "[nltk_data] Downloading package wordnet to\n",
            "[nltk_data]     C:\\Users\\jorge\\AppData\\Roaming\\nltk_data...\n",
            "[nltk_data]   Package wordnet is already up-to-date!\n"
          ]
        }
      ],
      "source": [
        "import zipfile as zp # para descomprimir archivos zip\n",
        "import urllib.request # para descargar de URL\n",
        "import os\n",
        "import numpy as np\n",
        "import pandas as pd\n",
        "import requests\n",
        "import http.client\n",
        "import io\n",
        "import matplotlib.pyplot as plt\n",
        "import seaborn as sns\n",
        "from zipfile import ZipFile\n",
        "from nltk.corpus import stopwords\n",
        "from nltk.stem import PorterStemmer\n",
        "from sklearn.feature_extraction.text import TfidfVectorizer\n",
        "from sklearn.model_selection import train_test_split\n",
        "from sklearn.metrics import accuracy_score\n",
        "import nltk\n",
        "import re\n",
        "from sklearn.linear_model import LogisticRegression\n",
        "import joblib\n",
        "nltk.download('stopwords')\n",
        "import warnings\n",
        "warnings.filterwarnings(\"ignore\")\n",
        "from tqdm import tqdm\n",
        "import time\n",
        "\n",
        "from sklearn.metrics import accuracy_score\n",
        "from sklearn.model_selection import train_test_split\n",
        "from sklearn.linear_model import LogisticRegression\n",
        "from sklearn.feature_extraction.text import CountVectorizer,TfidfVectorizer\n",
        "\n",
        "import seaborn as sns\n",
        "import matplotlib.pyplot as plt\n",
        "import plotly.express as px\n",
        "import plotly.figure_factory as ff\n",
        "from wordcloud import WordCloud\n",
        "\n",
        "import spacy\n",
        "import nltk\n",
        "nltk.download('wordnet')\n",
        "#nlp=spacy.load('en_core_web_sm')\n",
        "from nltk import WordNetLemmatizer\n",
        "from nltk.corpus import stopwords\n",
        "\n",
        "import tensorflow as tf\n",
        "from keras.callbacks import EarlyStopping\n",
        "from tensorflow.keras.optimizers import Adam\n",
        "from tensorflow.keras.models import Sequential\n",
        "from tensorflow.keras.layers import Dense,Dropout,Flatten,Embedding,SimpleRNN,LSTM,GRU,Bidirectional,BatchNormalization\n",
        "from tensorflow.keras.preprocessing.text import Tokenizer\n",
        "from tensorflow.keras.preprocessing.sequence import pad_sequences\n",
        "#from gensim.models import Word2Vec\n",
        "\n",
        "import nltk\n",
        "import subprocess"
      ]
    },
    {
      "cell_type": "code",
      "execution_count": null,
      "id": "ed216caf",
      "metadata": {
        "scrolled": true,
        "id": "ed216caf",
        "outputId": "46bdb521-2ce6-493a-cc49-3d40ed585ba7"
      },
      "outputs": [
        {
          "data": {
            "text/html": [
              "<div>\n",
              "<style scoped>\n",
              "    .dataframe tbody tr th:only-of-type {\n",
              "        vertical-align: middle;\n",
              "    }\n",
              "\n",
              "    .dataframe tbody tr th {\n",
              "        vertical-align: top;\n",
              "    }\n",
              "\n",
              "    .dataframe thead th {\n",
              "        text-align: right;\n",
              "    }\n",
              "</style>\n",
              "<table border=\"1\" class=\"dataframe\">\n",
              "  <thead>\n",
              "    <tr style=\"text-align: right;\">\n",
              "      <th></th>\n",
              "      <th>target</th>\n",
              "      <th>ids</th>\n",
              "      <th>date</th>\n",
              "      <th>flag</th>\n",
              "      <th>user</th>\n",
              "      <th>text</th>\n",
              "    </tr>\n",
              "  </thead>\n",
              "  <tbody>\n",
              "    <tr>\n",
              "      <th>1476890</th>\n",
              "      <td>4</td>\n",
              "      <td>2066175568</td>\n",
              "      <td>Sun Jun 07 10:01:44 PDT 2009</td>\n",
              "      <td>NO_QUERY</td>\n",
              "      <td>pisces_mami</td>\n",
              "      <td>@jaymoney4 awwww... Poor babez!! Lol. Nah it i...</td>\n",
              "    </tr>\n",
              "    <tr>\n",
              "      <th>521393</th>\n",
              "      <td>0</td>\n",
              "      <td>2192400689</td>\n",
              "      <td>Tue Jun 16 06:59:02 PDT 2009</td>\n",
              "      <td>NO_QUERY</td>\n",
              "      <td>remedii28</td>\n",
              "      <td>sooo tiireedd  qonna meet up wit one of the be...</td>\n",
              "    </tr>\n",
              "    <tr>\n",
              "      <th>1440418</th>\n",
              "      <td>4</td>\n",
              "      <td>2061666031</td>\n",
              "      <td>Sat Jun 06 21:20:58 PDT 2009</td>\n",
              "      <td>NO_QUERY</td>\n",
              "      <td>guruvan</td>\n",
              "      <td>@Urvaksh There will be several of us there. I ...</td>\n",
              "    </tr>\n",
              "    <tr>\n",
              "      <th>1329689</th>\n",
              "      <td>4</td>\n",
              "      <td>2015697259</td>\n",
              "      <td>Wed Jun 03 05:18:35 PDT 2009</td>\n",
              "      <td>NO_QUERY</td>\n",
              "      <td>BrowncoatBuffy</td>\n",
              "      <td>@dollylolly I shall make my presence made soon...</td>\n",
              "    </tr>\n",
              "    <tr>\n",
              "      <th>159313</th>\n",
              "      <td>0</td>\n",
              "      <td>1956810573</td>\n",
              "      <td>Thu May 28 22:44:56 PDT 2009</td>\n",
              "      <td>NO_QUERY</td>\n",
              "      <td>jennaeccles</td>\n",
              "      <td>@hughlaurie I am so mad that House is over   c...</td>\n",
              "    </tr>\n",
              "    <tr>\n",
              "      <th>8879</th>\n",
              "      <td>0</td>\n",
              "      <td>1548521469</td>\n",
              "      <td>Fri Apr 17 21:11:07 PDT 2009</td>\n",
              "      <td>NO_QUERY</td>\n",
              "      <td>FerdiieJonas</td>\n",
              "      <td>Homework</td>\n",
              "    </tr>\n",
              "    <tr>\n",
              "      <th>80947</th>\n",
              "      <td>0</td>\n",
              "      <td>1752529045</td>\n",
              "      <td>Sat May 09 22:10:42 PDT 2009</td>\n",
              "      <td>NO_QUERY</td>\n",
              "      <td>joliesgrrl80</td>\n",
              "      <td>got sunburned from the dodger game. boo.</td>\n",
              "    </tr>\n",
              "    <tr>\n",
              "      <th>1472565</th>\n",
              "      <td>4</td>\n",
              "      <td>2065397606</td>\n",
              "      <td>Sun Jun 07 08:30:43 PDT 2009</td>\n",
              "      <td>NO_QUERY</td>\n",
              "      <td>carlinhaanyyy</td>\n",
              "      <td>@taylorswift13 http://twitpic.com/6g8k2 - You ...</td>\n",
              "    </tr>\n",
              "    <tr>\n",
              "      <th>1376619</th>\n",
              "      <td>4</td>\n",
              "      <td>2051774560</td>\n",
              "      <td>Fri Jun 05 22:46:43 PDT 2009</td>\n",
              "      <td>NO_QUERY</td>\n",
              "      <td>preethzzz</td>\n",
              "      <td>@rampantheart good day to you!</td>\n",
              "    </tr>\n",
              "    <tr>\n",
              "      <th>1527984</th>\n",
              "      <td>4</td>\n",
              "      <td>2177295417</td>\n",
              "      <td>Mon Jun 15 05:50:44 PDT 2009</td>\n",
              "      <td>NO_QUERY</td>\n",
              "      <td>Kelliekk</td>\n",
              "      <td>@LoveMeSomeDean http://twitpic.com/7g0h9 - oh ...</td>\n",
              "    </tr>\n",
              "  </tbody>\n",
              "</table>\n",
              "</div>"
            ],
            "text/plain": [
              "         target         ids                          date      flag  \\\n",
              "1476890       4  2066175568  Sun Jun 07 10:01:44 PDT 2009  NO_QUERY   \n",
              "521393        0  2192400689  Tue Jun 16 06:59:02 PDT 2009  NO_QUERY   \n",
              "1440418       4  2061666031  Sat Jun 06 21:20:58 PDT 2009  NO_QUERY   \n",
              "1329689       4  2015697259  Wed Jun 03 05:18:35 PDT 2009  NO_QUERY   \n",
              "159313        0  1956810573  Thu May 28 22:44:56 PDT 2009  NO_QUERY   \n",
              "8879          0  1548521469  Fri Apr 17 21:11:07 PDT 2009  NO_QUERY   \n",
              "80947         0  1752529045  Sat May 09 22:10:42 PDT 2009  NO_QUERY   \n",
              "1472565       4  2065397606  Sun Jun 07 08:30:43 PDT 2009  NO_QUERY   \n",
              "1376619       4  2051774560  Fri Jun 05 22:46:43 PDT 2009  NO_QUERY   \n",
              "1527984       4  2177295417  Mon Jun 15 05:50:44 PDT 2009  NO_QUERY   \n",
              "\n",
              "                   user                                               text  \n",
              "1476890     pisces_mami  @jaymoney4 awwww... Poor babez!! Lol. Nah it i...  \n",
              "521393        remedii28  sooo tiireedd  qonna meet up wit one of the be...  \n",
              "1440418         guruvan  @Urvaksh There will be several of us there. I ...  \n",
              "1329689  BrowncoatBuffy  @dollylolly I shall make my presence made soon...  \n",
              "159313      jennaeccles  @hughlaurie I am so mad that House is over   c...  \n",
              "8879       FerdiieJonas                                          Homework   \n",
              "80947      joliesgrrl80          got sunburned from the dodger game. boo.   \n",
              "1472565   carlinhaanyyy  @taylorswift13 http://twitpic.com/6g8k2 - You ...  \n",
              "1376619       preethzzz                    @rampantheart good day to you!   \n",
              "1527984        Kelliekk  @LoveMeSomeDean http://twitpic.com/7g0h9 - oh ...  "
            ]
          },
          "metadata": {},
          "output_type": "display_data"
        }
      ],
      "source": [
        "ruta = \"training.1600000.processed.noemoticon.csv\"\n",
        "encoding = \"ISO-8859-1\"\n",
        "df = pd.read_csv(ruta, encoding=encoding, header=None, names=['target','ids','date','flag','user','text'])\n",
        "display(df.sample(10))"
      ]
    },
    {
      "cell_type": "code",
      "execution_count": null,
      "id": "7194c702",
      "metadata": {
        "scrolled": true,
        "id": "7194c702",
        "outputId": "cb660d52-a6d0-4992-8a30-8b35c36655bc"
      },
      "outputs": [
        {
          "data": {
            "text/html": [
              "<div>\n",
              "<style scoped>\n",
              "    .dataframe tbody tr th:only-of-type {\n",
              "        vertical-align: middle;\n",
              "    }\n",
              "\n",
              "    .dataframe tbody tr th {\n",
              "        vertical-align: top;\n",
              "    }\n",
              "\n",
              "    .dataframe thead th {\n",
              "        text-align: right;\n",
              "    }\n",
              "</style>\n",
              "<table border=\"1\" class=\"dataframe\">\n",
              "  <thead>\n",
              "    <tr style=\"text-align: right;\">\n",
              "      <th></th>\n",
              "      <th>target</th>\n",
              "      <th>ids</th>\n",
              "      <th>date</th>\n",
              "      <th>flag</th>\n",
              "      <th>user</th>\n",
              "      <th>text</th>\n",
              "    </tr>\n",
              "  </thead>\n",
              "  <tbody>\n",
              "    <tr>\n",
              "      <th>count</th>\n",
              "      <td>1.600000e+06</td>\n",
              "      <td>1.600000e+06</td>\n",
              "      <td>1600000</td>\n",
              "      <td>1600000</td>\n",
              "      <td>1600000</td>\n",
              "      <td>1600000</td>\n",
              "    </tr>\n",
              "    <tr>\n",
              "      <th>unique</th>\n",
              "      <td>NaN</td>\n",
              "      <td>NaN</td>\n",
              "      <td>774363</td>\n",
              "      <td>1</td>\n",
              "      <td>659775</td>\n",
              "      <td>1581466</td>\n",
              "    </tr>\n",
              "    <tr>\n",
              "      <th>top</th>\n",
              "      <td>NaN</td>\n",
              "      <td>NaN</td>\n",
              "      <td>Mon Jun 15 12:53:14 PDT 2009</td>\n",
              "      <td>NO_QUERY</td>\n",
              "      <td>lost_dog</td>\n",
              "      <td>isPlayer Has Died! Sorry</td>\n",
              "    </tr>\n",
              "    <tr>\n",
              "      <th>freq</th>\n",
              "      <td>NaN</td>\n",
              "      <td>NaN</td>\n",
              "      <td>20</td>\n",
              "      <td>1600000</td>\n",
              "      <td>549</td>\n",
              "      <td>210</td>\n",
              "    </tr>\n",
              "    <tr>\n",
              "      <th>mean</th>\n",
              "      <td>2.000000e+00</td>\n",
              "      <td>1.998818e+09</td>\n",
              "      <td>NaN</td>\n",
              "      <td>NaN</td>\n",
              "      <td>NaN</td>\n",
              "      <td>NaN</td>\n",
              "    </tr>\n",
              "    <tr>\n",
              "      <th>std</th>\n",
              "      <td>2.000001e+00</td>\n",
              "      <td>1.935761e+08</td>\n",
              "      <td>NaN</td>\n",
              "      <td>NaN</td>\n",
              "      <td>NaN</td>\n",
              "      <td>NaN</td>\n",
              "    </tr>\n",
              "    <tr>\n",
              "      <th>min</th>\n",
              "      <td>0.000000e+00</td>\n",
              "      <td>1.467810e+09</td>\n",
              "      <td>NaN</td>\n",
              "      <td>NaN</td>\n",
              "      <td>NaN</td>\n",
              "      <td>NaN</td>\n",
              "    </tr>\n",
              "    <tr>\n",
              "      <th>25%</th>\n",
              "      <td>0.000000e+00</td>\n",
              "      <td>1.956916e+09</td>\n",
              "      <td>NaN</td>\n",
              "      <td>NaN</td>\n",
              "      <td>NaN</td>\n",
              "      <td>NaN</td>\n",
              "    </tr>\n",
              "    <tr>\n",
              "      <th>50%</th>\n",
              "      <td>2.000000e+00</td>\n",
              "      <td>2.002102e+09</td>\n",
              "      <td>NaN</td>\n",
              "      <td>NaN</td>\n",
              "      <td>NaN</td>\n",
              "      <td>NaN</td>\n",
              "    </tr>\n",
              "    <tr>\n",
              "      <th>75%</th>\n",
              "      <td>4.000000e+00</td>\n",
              "      <td>2.177059e+09</td>\n",
              "      <td>NaN</td>\n",
              "      <td>NaN</td>\n",
              "      <td>NaN</td>\n",
              "      <td>NaN</td>\n",
              "    </tr>\n",
              "    <tr>\n",
              "      <th>max</th>\n",
              "      <td>4.000000e+00</td>\n",
              "      <td>2.329206e+09</td>\n",
              "      <td>NaN</td>\n",
              "      <td>NaN</td>\n",
              "      <td>NaN</td>\n",
              "      <td>NaN</td>\n",
              "    </tr>\n",
              "  </tbody>\n",
              "</table>\n",
              "</div>"
            ],
            "text/plain": [
              "              target           ids                          date      flag  \\\n",
              "count   1.600000e+06  1.600000e+06                       1600000   1600000   \n",
              "unique           NaN           NaN                        774363         1   \n",
              "top              NaN           NaN  Mon Jun 15 12:53:14 PDT 2009  NO_QUERY   \n",
              "freq             NaN           NaN                            20   1600000   \n",
              "mean    2.000000e+00  1.998818e+09                           NaN       NaN   \n",
              "std     2.000001e+00  1.935761e+08                           NaN       NaN   \n",
              "min     0.000000e+00  1.467810e+09                           NaN       NaN   \n",
              "25%     0.000000e+00  1.956916e+09                           NaN       NaN   \n",
              "50%     2.000000e+00  2.002102e+09                           NaN       NaN   \n",
              "75%     4.000000e+00  2.177059e+09                           NaN       NaN   \n",
              "max     4.000000e+00  2.329206e+09                           NaN       NaN   \n",
              "\n",
              "            user                       text  \n",
              "count    1600000                    1600000  \n",
              "unique    659775                    1581466  \n",
              "top     lost_dog  isPlayer Has Died! Sorry   \n",
              "freq         549                        210  \n",
              "mean         NaN                        NaN  \n",
              "std          NaN                        NaN  \n",
              "min          NaN                        NaN  \n",
              "25%          NaN                        NaN  \n",
              "50%          NaN                        NaN  \n",
              "75%          NaN                        NaN  \n",
              "max          NaN                        NaN  "
            ]
          },
          "metadata": {},
          "output_type": "display_data"
        }
      ],
      "source": [
        "#Sacamos Información\n",
        "display(df.describe(include='all'))\n"
      ]
    },
    {
      "cell_type": "code",
      "execution_count": null,
      "id": "d5377922",
      "metadata": {
        "scrolled": true,
        "id": "d5377922",
        "outputId": "52d6cf52-abff-4d32-f335-a5a814d9b81e"
      },
      "outputs": [
        {
          "name": "stdout",
          "output_type": "stream",
          "text": [
            "<class 'pandas.core.frame.DataFrame'>\n",
            "RangeIndex: 1600000 entries, 0 to 1599999\n",
            "Data columns (total 6 columns):\n",
            " #   Column  Non-Null Count    Dtype \n",
            "---  ------  --------------    ----- \n",
            " 0   target  1600000 non-null  int64 \n",
            " 1   ids     1600000 non-null  int64 \n",
            " 2   date    1600000 non-null  object\n",
            " 3   flag    1600000 non-null  object\n",
            " 4   user    1600000 non-null  object\n",
            " 5   text    1600000 non-null  object\n",
            "dtypes: int64(2), object(4)\n",
            "memory usage: 73.2+ MB\n"
          ]
        },
        {
          "data": {
            "text/plain": [
              "RangeIndex(start=0, stop=1600000, step=1)"
            ]
          },
          "execution_count": 4,
          "metadata": {},
          "output_type": "execute_result"
        }
      ],
      "source": [
        "df.info()\n",
        "df.shape\n",
        "df.index"
      ]
    },
    {
      "cell_type": "code",
      "execution_count": null,
      "id": "a1123de0",
      "metadata": {
        "scrolled": true,
        "id": "a1123de0",
        "outputId": "3dda4056-270a-4961-9bd7-004c61a8db7d"
      },
      "outputs": [
        {
          "data": {
            "text/plain": [
              "NO_QUERY    1600000\n",
              "Name: flag, dtype: int64"
            ]
          },
          "execution_count": 6,
          "metadata": {},
          "output_type": "execute_result"
        }
      ],
      "source": [
        "df['flag'].value_counts()\n"
      ]
    },
    {
      "cell_type": "code",
      "execution_count": null,
      "id": "5d9b90f6",
      "metadata": {
        "scrolled": true,
        "id": "5d9b90f6",
        "outputId": "4014a048-7c08-42fe-bb23-93a984985b70"
      },
      "outputs": [
        {
          "data": {
            "text/plain": [
              "0    800000\n",
              "4    800000\n",
              "Name: target, dtype: int64"
            ]
          },
          "execution_count": 7,
          "metadata": {},
          "output_type": "execute_result"
        }
      ],
      "source": [
        "df['target'].value_counts()"
      ]
    },
    {
      "cell_type": "code",
      "execution_count": null,
      "id": "93bc2594",
      "metadata": {
        "scrolled": true,
        "id": "93bc2594"
      },
      "outputs": [],
      "source": [
        "df['target']=['Negative' if x==0 else 'Positive' for x in df['target']]"
      ]
    },
    {
      "cell_type": "code",
      "execution_count": null,
      "id": "5b56f56e",
      "metadata": {
        "scrolled": true,
        "id": "5b56f56e",
        "outputId": "e0cab1ab-1d23-4197-822b-c334baa2bd86"
      },
      "outputs": [
        {
          "data": {
            "text/plain": [
              "Negative    800000\n",
              "Positive    800000\n",
              "Name: target, dtype: int64"
            ]
          },
          "execution_count": 9,
          "metadata": {},
          "output_type": "execute_result"
        }
      ],
      "source": [
        "df[\"target\"].value_counts()"
      ]
    },
    {
      "cell_type": "code",
      "execution_count": null,
      "id": "62044ef3",
      "metadata": {
        "scrolled": true,
        "id": "62044ef3"
      },
      "outputs": [],
      "source": [
        "#Vamos a Preprocesar la Información\n",
        "stop_words=stopwords.words('english')\n",
        "port_stem=PorterStemmer()\n",
        "def pre_process(content):\n",
        "  process_content=re.sub(r'[^a-zA-Z\\s]',\"\",content)\n",
        "  process_content=process_content.lower()\n",
        "  process_content=process_content.split(' ')\n",
        "  process_content=[port_stem.stem(word) for word in process_content if word not in stop_words]\n",
        "  process_content= \" \".join(process_content)\n",
        "  return process_content\n",
        "df['processed_stemed_data']=df['text'].apply(pre_process)\n"
      ]
    },
    {
      "cell_type": "code",
      "execution_count": null,
      "id": "8b1319f4",
      "metadata": {
        "scrolled": true,
        "id": "8b1319f4",
        "outputId": "a0f3cfc4-cec1-4f1b-9415-be853746fe76"
      },
      "outputs": [
        {
          "data": {
            "text/plain": [
              "Index(['target', 'ids', 'date', 'flag', 'user', 'text',\n",
              "       'processed_stemed_data'],\n",
              "      dtype='object')"
            ]
          },
          "execution_count": 11,
          "metadata": {},
          "output_type": "execute_result"
        }
      ],
      "source": [
        "df.columns"
      ]
    },
    {
      "cell_type": "code",
      "execution_count": null,
      "id": "bc6166d5",
      "metadata": {
        "scrolled": true,
        "id": "bc6166d5"
      },
      "outputs": [],
      "source": [
        "x=df['processed_stemed_data']\n",
        "y=df['target']\n",
        "X_train,X_test,Y_train,Y_test=train_test_split(x,y,test_size=0.2,stratify=y)\n",
        "vectorizer=TfidfVectorizer()\n",
        "X_train_vect=vectorizer.fit_transform(X_train)\n",
        "X_test_vect=vectorizer.transform(X_test)"
      ]
    },
    {
      "cell_type": "code",
      "execution_count": null,
      "id": "f1935cec",
      "metadata": {
        "scrolled": true,
        "id": "f1935cec",
        "outputId": "b73680ed-606d-4ece-d256-22277e78d739"
      },
      "outputs": [
        {
          "data": {
            "text/html": [
              "<style>#sk-container-id-1 {color: black;}#sk-container-id-1 pre{padding: 0;}#sk-container-id-1 div.sk-toggleable {background-color: white;}#sk-container-id-1 label.sk-toggleable__label {cursor: pointer;display: block;width: 100%;margin-bottom: 0;padding: 0.3em;box-sizing: border-box;text-align: center;}#sk-container-id-1 label.sk-toggleable__label-arrow:before {content: \"▸\";float: left;margin-right: 0.25em;color: #696969;}#sk-container-id-1 label.sk-toggleable__label-arrow:hover:before {color: black;}#sk-container-id-1 div.sk-estimator:hover label.sk-toggleable__label-arrow:before {color: black;}#sk-container-id-1 div.sk-toggleable__content {max-height: 0;max-width: 0;overflow: hidden;text-align: left;background-color: #f0f8ff;}#sk-container-id-1 div.sk-toggleable__content pre {margin: 0.2em;color: black;border-radius: 0.25em;background-color: #f0f8ff;}#sk-container-id-1 input.sk-toggleable__control:checked~div.sk-toggleable__content {max-height: 200px;max-width: 100%;overflow: auto;}#sk-container-id-1 input.sk-toggleable__control:checked~label.sk-toggleable__label-arrow:before {content: \"▾\";}#sk-container-id-1 div.sk-estimator input.sk-toggleable__control:checked~label.sk-toggleable__label {background-color: #d4ebff;}#sk-container-id-1 div.sk-label input.sk-toggleable__control:checked~label.sk-toggleable__label {background-color: #d4ebff;}#sk-container-id-1 input.sk-hidden--visually {border: 0;clip: rect(1px 1px 1px 1px);clip: rect(1px, 1px, 1px, 1px);height: 1px;margin: -1px;overflow: hidden;padding: 0;position: absolute;width: 1px;}#sk-container-id-1 div.sk-estimator {font-family: monospace;background-color: #f0f8ff;border: 1px dotted black;border-radius: 0.25em;box-sizing: border-box;margin-bottom: 0.5em;}#sk-container-id-1 div.sk-estimator:hover {background-color: #d4ebff;}#sk-container-id-1 div.sk-parallel-item::after {content: \"\";width: 100%;border-bottom: 1px solid gray;flex-grow: 1;}#sk-container-id-1 div.sk-label:hover label.sk-toggleable__label {background-color: #d4ebff;}#sk-container-id-1 div.sk-serial::before {content: \"\";position: absolute;border-left: 1px solid gray;box-sizing: border-box;top: 0;bottom: 0;left: 50%;z-index: 0;}#sk-container-id-1 div.sk-serial {display: flex;flex-direction: column;align-items: center;background-color: white;padding-right: 0.2em;padding-left: 0.2em;position: relative;}#sk-container-id-1 div.sk-item {position: relative;z-index: 1;}#sk-container-id-1 div.sk-parallel {display: flex;align-items: stretch;justify-content: center;background-color: white;position: relative;}#sk-container-id-1 div.sk-item::before, #sk-container-id-1 div.sk-parallel-item::before {content: \"\";position: absolute;border-left: 1px solid gray;box-sizing: border-box;top: 0;bottom: 0;left: 50%;z-index: -1;}#sk-container-id-1 div.sk-parallel-item {display: flex;flex-direction: column;z-index: 1;position: relative;background-color: white;}#sk-container-id-1 div.sk-parallel-item:first-child::after {align-self: flex-end;width: 50%;}#sk-container-id-1 div.sk-parallel-item:last-child::after {align-self: flex-start;width: 50%;}#sk-container-id-1 div.sk-parallel-item:only-child::after {width: 0;}#sk-container-id-1 div.sk-dashed-wrapped {border: 1px dashed gray;margin: 0 0.4em 0.5em 0.4em;box-sizing: border-box;padding-bottom: 0.4em;background-color: white;}#sk-container-id-1 div.sk-label label {font-family: monospace;font-weight: bold;display: inline-block;line-height: 1.2em;}#sk-container-id-1 div.sk-label-container {text-align: center;}#sk-container-id-1 div.sk-container {/* jupyter's `normalize.less` sets `[hidden] { display: none; }` but bootstrap.min.css set `[hidden] { display: none !important; }` so we also need the `!important` here to be able to override the default hidden behavior on the sphinx rendered scikit-learn.org. See: https://github.com/scikit-learn/scikit-learn/issues/21755 */display: inline-block !important;position: relative;}#sk-container-id-1 div.sk-text-repr-fallback {display: none;}</style><div id=\"sk-container-id-1\" class=\"sk-top-container\"><div class=\"sk-text-repr-fallback\"><pre>LogisticRegression(max_iter=1600000)</pre><b>In a Jupyter environment, please rerun this cell to show the HTML representation or trust the notebook. <br />On GitHub, the HTML representation is unable to render, please try loading this page with nbviewer.org.</b></div><div class=\"sk-container\" hidden><div class=\"sk-item\"><div class=\"sk-estimator sk-toggleable\"><input class=\"sk-toggleable__control sk-hidden--visually\" id=\"sk-estimator-id-1\" type=\"checkbox\" checked><label for=\"sk-estimator-id-1\" class=\"sk-toggleable__label sk-toggleable__label-arrow\">LogisticRegression</label><div class=\"sk-toggleable__content\"><pre>LogisticRegression(max_iter=1600000)</pre></div></div></div></div></div>"
            ],
            "text/plain": [
              "LogisticRegression(max_iter=1600000)"
            ]
          },
          "execution_count": 13,
          "metadata": {},
          "output_type": "execute_result"
        }
      ],
      "source": [
        "model=LogisticRegression(max_iter=1600000)\n",
        "model.fit(X_train_vect,Y_train)"
      ]
    },
    {
      "cell_type": "code",
      "execution_count": null,
      "id": "fe863d0b",
      "metadata": {
        "scrolled": true,
        "id": "fe863d0b",
        "outputId": "dd0cccff-db8d-442a-ab90-31c23aebda67"
      },
      "outputs": [
        {
          "data": {
            "text/plain": [
              "0.783796875"
            ]
          },
          "execution_count": 14,
          "metadata": {},
          "output_type": "execute_result"
        }
      ],
      "source": [
        "model.score(X_test_vect,Y_test)"
      ]
    },
    {
      "cell_type": "code",
      "execution_count": null,
      "id": "e9a610b1",
      "metadata": {
        "scrolled": true,
        "id": "e9a610b1",
        "outputId": "c90fccf2-7a87-4f3b-a68e-589bcc58925b"
      },
      "outputs": [
        {
          "name": "stdout",
          "output_type": "stream",
          "text": [
            "0.81722265625\n"
          ]
        }
      ],
      "source": [
        "pred=model.predict(X_train_vect)\n",
        "print(accuracy_score(Y_train,pred))"
      ]
    },
    {
      "cell_type": "code",
      "execution_count": null,
      "id": "f3f094d6",
      "metadata": {
        "scrolled": true,
        "id": "f3f094d6"
      },
      "outputs": [],
      "source": [
        "\n",
        "#https://www.kaggle.com/code/vasudevsrivastava/sentiment-analysis-beginner-deep-learning\n",
        "#Vamos a guardar el modelo par autilizarlo más tarde\n",
        "\n",
        "joblib.dump(model,\"dump_sentiment_analysis_logistic_model.joblib\")\n",
        "joblib.dump(vectorizer,\"vectorizer_vocabulary.joblib\")\n",
        "sentiment_analysis_logistic_model=joblib.load('dump_sentiment_analysis_logistic_model.joblib')\n",
        "vectorize_vocabulary=joblib.load(\"vectorizer_vocabulary.joblib\")"
      ]
    },
    {
      "cell_type": "code",
      "execution_count": null,
      "id": "4a22c7a2",
      "metadata": {
        "scrolled": true,
        "id": "4a22c7a2",
        "outputId": "ab30e59d-009c-41f3-e426-542ab51e8fb3"
      },
      "outputs": [
        {
          "data": {
            "text/plain": [
              "'Negative'"
            ]
          },
          "execution_count": 17,
          "metadata": {},
          "output_type": "execute_result"
        }
      ],
      "source": [
        "test_senti=\"i am bad\"\n",
        "test_senti=vectorize_vocabulary.transform([test_senti])\n",
        "sentiment_analysis_logistic_model.predict(test_senti)[0]"
      ]
    }
  ],
  "metadata": {
    "kernelspec": {
      "display_name": "Python 3 (ipykernel)",
      "language": "python",
      "name": "python3"
    },
    "language_info": {
      "codemirror_mode": {
        "name": "ipython",
        "version": 3
      },
      "file_extension": ".py",
      "mimetype": "text/x-python",
      "name": "python",
      "nbconvert_exporter": "python",
      "pygments_lexer": "ipython3",
      "version": "3.9.9"
    },
    "colab": {
      "provenance": [],
      "include_colab_link": true
    }
  },
  "nbformat": 4,
  "nbformat_minor": 5
}