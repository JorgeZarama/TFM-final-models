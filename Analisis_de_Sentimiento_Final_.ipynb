{
  "cells": [
    {
      "cell_type": "markdown",
      "metadata": {
        "id": "view-in-github",
        "colab_type": "text"
      },
      "source": [
        "<a href=\"https://colab.research.google.com/github/JorgeZarama/TFM-final-models/blob/main/Analisis_de_Sentimiento_Final_.ipynb\" target=\"_parent\"><img src=\"https://colab.research.google.com/assets/colab-badge.svg\" alt=\"Open In Colab\"/></a>"
      ]
    },
    {
      "cell_type": "markdown",
      "metadata": {
        "id": "wq_vxHUG0KWS"
      },
      "source": [
        "## Importar Clases"
      ]
    },
    {
      "cell_type": "code",
      "execution_count": null,
      "metadata": {
        "id": "ytG3nkdMTS5v"
      },
      "outputs": [],
      "source": [
        "import numpy as np\n",
        "import pandas as pd\n",
        "import string\n",
        "import re\n",
        "import unidecode\n",
        "import codecs\n",
        "from sklearn.utils import class_weight\n",
        "from tensorflow.keras.preprocessing.text import Tokenizer\n",
        "from tensorflow.keras.preprocessing.sequence import pad_sequences\n",
        "from tensorflow.keras.models import Sequential\n",
        "from tensorflow.keras.layers import Embedding, Conv1D, Dropout, GlobalMaxPooling1D, Dense\n",
        "from tensorflow.keras.callbacks import EarlyStopping\n",
        "from sklearn.model_selection import train_test_split\n",
        "from tensorflow.keras.preprocessing.text import Tokenizer\n",
        "from tensorflow.keras.callbacks import ModelCheckpoint\n",
        "from nltk.stem import WordNetLemmatizer\n",
        "import warnings\n",
        "warnings.filterwarnings('ignore')"
      ]
    },
    {
      "cell_type": "markdown",
      "metadata": {
        "id": "Bnuv3kos0KWT"
      },
      "source": [
        "## Concatemaos todos los conjuntos de datos"
      ]
    },
    {
      "cell_type": "code",
      "execution_count": null,
      "metadata": {
        "id": "DSt_hVX4SLDn"
      },
      "outputs": [],
      "source": [
        "# Se estrajo del conjunto de datos\n",
        "\n",
        "ruta_archivo_1 = \"filtered_googl_records1.csv\"\n",
        "ruta_archivo_2 = \"filtered_GOOGL_records2.csv\"\n",
        "ruta_archivo_3 = \"filtered_asml_records1.csv\"\n",
        "ruta_archivo_4 = \"filtered_ASML_records2.csv\"\n",
        "ruta_archivo_5 = \"filtered_LRCX_records1.csv\"\n",
        "ruta_archivo_6 = \"filtered_LRCX_records2.csv\"\n",
        "ruta_archivo_7 = \"filtered_NVDA_records.csv\"\n",
        "ruta_archivo_8 = \"filtered_NVDA_records2.csv\"\n",
        "ruta_archivo_9 = \"filtered_tms_records1.csv\"\n",
        "ruta_archivo_10 = \"filtered_TMS_records2.csv\""
      ]
    },
    {
      "cell_type": "code",
      "execution_count": null,
      "metadata": {
        "colab": {
          "base_uri": "https://localhost:8080/",
          "height": 1000
        },
        "id": "oL72vXODTM33",
        "outputId": "6d120047-762d-403f-ab30-3f9882744034"
      },
      "outputs": [
        {
          "data": {
            "text/html": [
              "<div>\n",
              "<style scoped>\n",
              "    .dataframe tbody tr th:only-of-type {\n",
              "        vertical-align: middle;\n",
              "    }\n",
              "\n",
              "    .dataframe tbody tr th {\n",
              "        vertical-align: top;\n",
              "    }\n",
              "\n",
              "    .dataframe thead th {\n",
              "        text-align: right;\n",
              "    }\n",
              "</style>\n",
              "<table border=\"1\" class=\"dataframe\">\n",
              "  <thead>\n",
              "    <tr style=\"text-align: right;\">\n",
              "      <th></th>\n",
              "      <th>ticker</th>\n",
              "      <th>id_msg</th>\n",
              "      <th>msg</th>\n",
              "      <th>date</th>\n",
              "      <th>sent</th>\n",
              "      <th>id_user</th>\n",
              "      <th>foll</th>\n",
              "      <th>ideas</th>\n",
              "      <th>clean_text</th>\n",
              "      <th>sent_new</th>\n",
              "      <th>sent_merged</th>\n",
              "      <th>sent_new_noros</th>\n",
              "      <th>bullish_proba</th>\n",
              "    </tr>\n",
              "  </thead>\n",
              "  <tbody>\n",
              "    <tr>\n",
              "      <th>0</th>\n",
              "      <td>GOOGL</td>\n",
              "      <td>21652759</td>\n",
              "      <td>reminder that google class a shares will start...</td>\n",
              "      <td>2014-04-02 12:52:59+00:00</td>\n",
              "      <td>0</td>\n",
              "      <td>112427</td>\n",
              "      <td>96</td>\n",
              "      <td>2002</td>\n",
              "      <td>reminder that google class share will start tr...</td>\n",
              "      <td>1</td>\n",
              "      <td>1</td>\n",
              "      <td>1</td>\n",
              "      <td>0.856359</td>\n",
              "    </tr>\n",
              "    <tr>\n",
              "      <th>1</th>\n",
              "      <td>GOOGL</td>\n",
              "      <td>21663214</td>\n",
              "      <td>the difference between $goog and $googl will s...</td>\n",
              "      <td>2014-04-02 15:17:47+00:00</td>\n",
              "      <td>0</td>\n",
              "      <td>285820</td>\n",
              "      <td>560</td>\n",
              "      <td>13587</td>\n",
              "      <td>the difference between and will show the value...</td>\n",
              "      <td>-1</td>\n",
              "      <td>1</td>\n",
              "      <td>1</td>\n",
              "      <td>0.740180</td>\n",
              "    </tr>\n",
              "    <tr>\n",
              "      <th>2</th>\n",
              "      <td>GOOGL</td>\n",
              "      <td>21669778</td>\n",
              "      <td>.@strattonite america is a country of non-vote...</td>\n",
              "      <td>2014-04-02 16:52:40+00:00</td>\n",
              "      <td>0</td>\n",
              "      <td>6979</td>\n",
              "      <td>53955</td>\n",
              "      <td>27859</td>\n",
              "      <td>america be country of non voter dont think itl...</td>\n",
              "      <td>-1</td>\n",
              "      <td>0</td>\n",
              "      <td>0</td>\n",
              "      <td>0.690672</td>\n",
              "    </tr>\n",
              "    <tr>\n",
              "      <th>3</th>\n",
              "      <td>GOOGL</td>\n",
              "      <td>21680894</td>\n",
              "      <td>@marketswingplayer i believe its&amp;#39; $googl</td>\n",
              "      <td>2014-04-02 19:56:58+00:00</td>\n",
              "      <td>0</td>\n",
              "      <td>241057</td>\n",
              "      <td>10</td>\n",
              "      <td>117</td>\n",
              "      <td>believe its</td>\n",
              "      <td>1</td>\n",
              "      <td>1</td>\n",
              "      <td>1</td>\n",
              "      <td>0.917867</td>\n",
              "    </tr>\n",
              "    <tr>\n",
              "      <th>4</th>\n",
              "      <td>GOOGL</td>\n",
              "      <td>21682596</td>\n",
              "      <td>double the google? double the fun? will be int...</td>\n",
              "      <td>2014-04-02 20:21:54+00:00</td>\n",
              "      <td>0</td>\n",
              "      <td>23887</td>\n",
              "      <td>226402</td>\n",
              "      <td>39580</td>\n",
              "      <td>double the google double the fun will be inter...</td>\n",
              "      <td>1</td>\n",
              "      <td>1</td>\n",
              "      <td>1</td>\n",
              "      <td>0.886418</td>\n",
              "    </tr>\n",
              "    <tr>\n",
              "      <th>5</th>\n",
              "      <td>GOOGL</td>\n",
              "      <td>21692879</td>\n",
              "      <td>tomorrow we&amp;#39;ll get to see if no vote $goog...</td>\n",
              "      <td>2014-04-03 02:39:29+00:00</td>\n",
              "      <td>0</td>\n",
              "      <td>291928</td>\n",
              "      <td>62</td>\n",
              "      <td>8460</td>\n",
              "      <td>tomorrow well get to see if no vote get discou...</td>\n",
              "      <td>1</td>\n",
              "      <td>1</td>\n",
              "      <td>1</td>\n",
              "      <td>0.948774</td>\n",
              "    </tr>\n",
              "    <tr>\n",
              "      <th>6</th>\n",
              "      <td>GOOGL</td>\n",
              "      <td>21694850</td>\n",
              "      <td>early german trading. $goog indicated slightly...</td>\n",
              "      <td>2014-04-03 06:41:14+00:00</td>\n",
              "      <td>0</td>\n",
              "      <td>212</td>\n",
              "      <td>50</td>\n",
              "      <td>71</td>\n",
              "      <td>early german trading indicate slightly low hig...</td>\n",
              "      <td>1</td>\n",
              "      <td>1</td>\n",
              "      <td>1</td>\n",
              "      <td>0.889112</td>\n",
              "    </tr>\n",
              "    <tr>\n",
              "      <th>7</th>\n",
              "      <td>GOOGL</td>\n",
              "      <td>21695169</td>\n",
              "      <td>$googl somebody sold/bought at around 1000-110...</td>\n",
              "      <td>2014-04-03 08:11:06+00:00</td>\n",
              "      <td>0</td>\n",
              "      <td>82876</td>\n",
              "      <td>44</td>\n",
              "      <td>1807</td>\n",
              "      <td>somebody sell buy at around this morning lol p...</td>\n",
              "      <td>-1</td>\n",
              "      <td>0</td>\n",
              "      <td>0</td>\n",
              "      <td>0.682647</td>\n",
              "    </tr>\n",
              "    <tr>\n",
              "      <th>8</th>\n",
              "      <td>GOOGL</td>\n",
              "      <td>21695352</td>\n",
              "      <td>component $googl will commence during regular ...</td>\n",
              "      <td>2014-04-03 08:48:06+00:00</td>\n",
              "      <td>1</td>\n",
              "      <td>118770</td>\n",
              "      <td>8</td>\n",
              "      <td>365</td>\n",
              "      <td>component will commence during regular trading...</td>\n",
              "      <td>0</td>\n",
              "      <td>1</td>\n",
              "      <td>1</td>\n",
              "      <td>0.777955</td>\n",
              "    </tr>\n",
              "    <tr>\n",
              "      <th>9</th>\n",
              "      <td>GOOGL</td>\n",
              "      <td>21695684</td>\n",
              "      <td>$googl and $goog wish i had some of the non-tr...</td>\n",
              "      <td>2014-04-03 09:58:35+00:00</td>\n",
              "      <td>1</td>\n",
              "      <td>278526</td>\n",
              "      <td>7</td>\n",
              "      <td>35</td>\n",
              "      <td>and wish have some of the non trade share</td>\n",
              "      <td>1</td>\n",
              "      <td>1</td>\n",
              "      <td>1</td>\n",
              "      <td>0.941193</td>\n",
              "    </tr>\n",
              "  </tbody>\n",
              "</table>\n",
              "</div>"
            ],
            "text/plain": [
              "  ticker    id_msg                                                msg  \\\n",
              "0  GOOGL  21652759  reminder that google class a shares will start...   \n",
              "1  GOOGL  21663214  the difference between $goog and $googl will s...   \n",
              "2  GOOGL  21669778  .@strattonite america is a country of non-vote...   \n",
              "3  GOOGL  21680894       @marketswingplayer i believe its&#39; $googl   \n",
              "4  GOOGL  21682596  double the google? double the fun? will be int...   \n",
              "5  GOOGL  21692879  tomorrow we&#39;ll get to see if no vote $goog...   \n",
              "6  GOOGL  21694850  early german trading. $goog indicated slightly...   \n",
              "7  GOOGL  21695169  $googl somebody sold/bought at around 1000-110...   \n",
              "8  GOOGL  21695352  component $googl will commence during regular ...   \n",
              "9  GOOGL  21695684  $googl and $goog wish i had some of the non-tr...   \n",
              "\n",
              "                        date  sent  id_user    foll  ideas  \\\n",
              "0  2014-04-02 12:52:59+00:00     0   112427      96   2002   \n",
              "1  2014-04-02 15:17:47+00:00     0   285820     560  13587   \n",
              "2  2014-04-02 16:52:40+00:00     0     6979   53955  27859   \n",
              "3  2014-04-02 19:56:58+00:00     0   241057      10    117   \n",
              "4  2014-04-02 20:21:54+00:00     0    23887  226402  39580   \n",
              "5  2014-04-03 02:39:29+00:00     0   291928      62   8460   \n",
              "6  2014-04-03 06:41:14+00:00     0      212      50     71   \n",
              "7  2014-04-03 08:11:06+00:00     0    82876      44   1807   \n",
              "8  2014-04-03 08:48:06+00:00     1   118770       8    365   \n",
              "9  2014-04-03 09:58:35+00:00     1   278526       7     35   \n",
              "\n",
              "                                          clean_text  sent_new  sent_merged  \\\n",
              "0  reminder that google class share will start tr...         1            1   \n",
              "1  the difference between and will show the value...        -1            1   \n",
              "2  america be country of non voter dont think itl...        -1            0   \n",
              "3                                        believe its         1            1   \n",
              "4  double the google double the fun will be inter...         1            1   \n",
              "5  tomorrow well get to see if no vote get discou...         1            1   \n",
              "6  early german trading indicate slightly low hig...         1            1   \n",
              "7  somebody sell buy at around this morning lol p...        -1            0   \n",
              "8  component will commence during regular trading...         0            1   \n",
              "9          and wish have some of the non trade share         1            1   \n",
              "\n",
              "   sent_new_noros  bullish_proba  \n",
              "0               1       0.856359  \n",
              "1               1       0.740180  \n",
              "2               0       0.690672  \n",
              "3               1       0.917867  \n",
              "4               1       0.886418  \n",
              "5               1       0.948774  \n",
              "6               1       0.889112  \n",
              "7               0       0.682647  \n",
              "8               1       0.777955  \n",
              "9               1       0.941193  "
            ]
          },
          "metadata": {},
          "output_type": "display_data"
        },
        {
          "data": {
            "text/html": [
              "<div>\n",
              "<style scoped>\n",
              "    .dataframe tbody tr th:only-of-type {\n",
              "        vertical-align: middle;\n",
              "    }\n",
              "\n",
              "    .dataframe tbody tr th {\n",
              "        vertical-align: top;\n",
              "    }\n",
              "\n",
              "    .dataframe thead th {\n",
              "        text-align: right;\n",
              "    }\n",
              "</style>\n",
              "<table border=\"1\" class=\"dataframe\">\n",
              "  <thead>\n",
              "    <tr style=\"text-align: right;\">\n",
              "      <th></th>\n",
              "      <th>ticker</th>\n",
              "      <th>id_msg</th>\n",
              "      <th>msg</th>\n",
              "      <th>date</th>\n",
              "      <th>sent</th>\n",
              "      <th>id_user</th>\n",
              "      <th>foll</th>\n",
              "      <th>ideas</th>\n",
              "      <th>clean_text</th>\n",
              "      <th>sent_new</th>\n",
              "      <th>sent_merged</th>\n",
              "      <th>sent_new_noros</th>\n",
              "      <th>bullish_proba</th>\n",
              "    </tr>\n",
              "  </thead>\n",
              "  <tbody>\n",
              "    <tr>\n",
              "      <th>81</th>\n",
              "      <td>TMS</td>\n",
              "      <td>58444987</td>\n",
              "      <td>$tms [2016-may] correlation histogram kurt : -...</td>\n",
              "      <td>2016-07-14 15:10:24+00:00</td>\n",
              "      <td>0</td>\n",
              "      <td>594906</td>\n",
              "      <td>72</td>\n",
              "      <td>61098</td>\n",
              "      <td>may correlation histogram kurt skew mode</td>\n",
              "      <td>-1</td>\n",
              "      <td>-1</td>\n",
              "      <td>-1</td>\n",
              "      <td>0.498839</td>\n",
              "    </tr>\n",
              "    <tr>\n",
              "      <th>82</th>\n",
              "      <td>TMS</td>\n",
              "      <td>59034375</td>\n",
              "      <td>$tms [2016-may] correlation histogram kurt : -...</td>\n",
              "      <td>2016-07-23 17:26:46+00:00</td>\n",
              "      <td>0</td>\n",
              "      <td>594906</td>\n",
              "      <td>72</td>\n",
              "      <td>61098</td>\n",
              "      <td>may correlation histogram kurt skew mode</td>\n",
              "      <td>-1</td>\n",
              "      <td>-1</td>\n",
              "      <td>-1</td>\n",
              "      <td>0.498839</td>\n",
              "    </tr>\n",
              "    <tr>\n",
              "      <th>83</th>\n",
              "      <td>TMS</td>\n",
              "      <td>59404150</td>\n",
              "      <td>$ebio telling every on to get on this for week...</td>\n",
              "      <td>2016-07-28 18:22:09+00:00</td>\n",
              "      <td>0</td>\n",
              "      <td>737239</td>\n",
              "      <td>88</td>\n",
              "      <td>2147</td>\n",
              "      <td>tell every on to get on this for week know lot...</td>\n",
              "      <td>1</td>\n",
              "      <td>1</td>\n",
              "      <td>1</td>\n",
              "      <td>0.898402</td>\n",
              "    </tr>\n",
              "    <tr>\n",
              "      <th>84</th>\n",
              "      <td>TMS</td>\n",
              "      <td>59408679</td>\n",
              "      <td>$ebio $lgcy $mgt $thm $tms $gale $opgn $optt $...</td>\n",
              "      <td>2016-07-28 18:58:17+00:00</td>\n",
              "      <td>0</td>\n",
              "      <td>298451</td>\n",
              "      <td>38</td>\n",
              "      <td>3632</td>\n",
              "      <td>whats your thought on</td>\n",
              "      <td>1</td>\n",
              "      <td>1</td>\n",
              "      <td>1</td>\n",
              "      <td>0.961670</td>\n",
              "    </tr>\n",
              "    <tr>\n",
              "      <th>85</th>\n",
              "      <td>TMS</td>\n",
              "      <td>82336324</td>\n",
              "      <td>$tms $tmo $teva $mdrx</td>\n",
              "      <td>2017-05-07 12:45:18+00:00</td>\n",
              "      <td>1</td>\n",
              "      <td>1020839</td>\n",
              "      <td>0</td>\n",
              "      <td>19</td>\n",
              "      <td>NaN</td>\n",
              "      <td>0</td>\n",
              "      <td>1</td>\n",
              "      <td>1</td>\n",
              "      <td>0.842373</td>\n",
              "    </tr>\n",
              "    <tr>\n",
              "      <th>0</th>\n",
              "      <td>TMS</td>\n",
              "      <td>121825888</td>\n",
              "      <td>@bullishbynature administration is clearly not...</td>\n",
              "      <td>2018-05-01 14:42:27+00:00</td>\n",
              "      <td>0</td>\n",
              "      <td>354309</td>\n",
              "      <td>151</td>\n",
              "      <td>14635</td>\n",
              "      <td>administration be clearly not totally oppose a...</td>\n",
              "      <td>0</td>\n",
              "      <td>1</td>\n",
              "      <td>1</td>\n",
              "      <td>0.797608</td>\n",
              "    </tr>\n",
              "    <tr>\n",
              "      <th>1</th>\n",
              "      <td>TMS</td>\n",
              "      <td>132056292</td>\n",
              "      <td>$x qtr will look more like $nue and much less ...</td>\n",
              "      <td>2018-07-31 14:33:55+00:00</td>\n",
              "      <td>1</td>\n",
              "      <td>301323</td>\n",
              "      <td>37</td>\n",
              "      <td>2007</td>\n",
              "      <td>qtr will look more like and much less like and...</td>\n",
              "      <td>-1</td>\n",
              "      <td>1</td>\n",
              "      <td>0</td>\n",
              "      <td>0.680076</td>\n",
              "    </tr>\n",
              "    <tr>\n",
              "      <th>2</th>\n",
              "      <td>TMS</td>\n",
              "      <td>132081329</td>\n",
              "      <td>$x $nue $aks $tms this is spot on. x is six ti...</td>\n",
              "      <td>2018-07-31 16:28:44+00:00</td>\n",
              "      <td>0</td>\n",
              "      <td>283547</td>\n",
              "      <td>28</td>\n",
              "      <td>2685</td>\n",
              "      <td>this be spot on be time large than ks and whol...</td>\n",
              "      <td>1</td>\n",
              "      <td>1</td>\n",
              "      <td>1</td>\n",
              "      <td>0.858959</td>\n",
              "    </tr>\n",
              "    <tr>\n",
              "      <th>3</th>\n",
              "      <td>TMS</td>\n",
              "      <td>150190635</td>\n",
              "      <td>amd unveils new high-end gpu and details upcom...</td>\n",
              "      <td>2019-01-09 22:02:09+00:00</td>\n",
              "      <td>0</td>\n",
              "      <td>962572</td>\n",
              "      <td>37406</td>\n",
              "      <td>91959</td>\n",
              "      <td>amd unveil new high end gpu and detail upcome ...</td>\n",
              "      <td>1</td>\n",
              "      <td>1</td>\n",
              "      <td>1</td>\n",
              "      <td>0.989958</td>\n",
              "    </tr>\n",
              "    <tr>\n",
              "      <th>4</th>\n",
              "      <td>TMS</td>\n",
              "      <td>161231182</td>\n",
              "      <td>$tms</td>\n",
              "      <td>2019-04-18 19:04:27+00:00</td>\n",
              "      <td>-1</td>\n",
              "      <td>1135115</td>\n",
              "      <td>168</td>\n",
              "      <td>3760</td>\n",
              "      <td>NaN</td>\n",
              "      <td>0</td>\n",
              "      <td>-1</td>\n",
              "      <td>1</td>\n",
              "      <td>0.842373</td>\n",
              "    </tr>\n",
              "  </tbody>\n",
              "</table>\n",
              "</div>"
            ],
            "text/plain": [
              "   ticker     id_msg                                                msg  \\\n",
              "81    TMS   58444987  $tms [2016-may] correlation histogram kurt : -...   \n",
              "82    TMS   59034375  $tms [2016-may] correlation histogram kurt : -...   \n",
              "83    TMS   59404150  $ebio telling every on to get on this for week...   \n",
              "84    TMS   59408679  $ebio $lgcy $mgt $thm $tms $gale $opgn $optt $...   \n",
              "85    TMS   82336324                              $tms $tmo $teva $mdrx   \n",
              "0     TMS  121825888  @bullishbynature administration is clearly not...   \n",
              "1     TMS  132056292  $x qtr will look more like $nue and much less ...   \n",
              "2     TMS  132081329  $x $nue $aks $tms this is spot on. x is six ti...   \n",
              "3     TMS  150190635  amd unveils new high-end gpu and details upcom...   \n",
              "4     TMS  161231182                                               $tms   \n",
              "\n",
              "                         date  sent  id_user   foll  ideas  \\\n",
              "81  2016-07-14 15:10:24+00:00     0   594906     72  61098   \n",
              "82  2016-07-23 17:26:46+00:00     0   594906     72  61098   \n",
              "83  2016-07-28 18:22:09+00:00     0   737239     88   2147   \n",
              "84  2016-07-28 18:58:17+00:00     0   298451     38   3632   \n",
              "85  2017-05-07 12:45:18+00:00     1  1020839      0     19   \n",
              "0   2018-05-01 14:42:27+00:00     0   354309    151  14635   \n",
              "1   2018-07-31 14:33:55+00:00     1   301323     37   2007   \n",
              "2   2018-07-31 16:28:44+00:00     0   283547     28   2685   \n",
              "3   2019-01-09 22:02:09+00:00     0   962572  37406  91959   \n",
              "4   2019-04-18 19:04:27+00:00    -1  1135115    168   3760   \n",
              "\n",
              "                                           clean_text  sent_new  sent_merged  \\\n",
              "81           may correlation histogram kurt skew mode        -1           -1   \n",
              "82           may correlation histogram kurt skew mode        -1           -1   \n",
              "83  tell every on to get on this for week know lot...         1            1   \n",
              "84                              whats your thought on         1            1   \n",
              "85                                                NaN         0            1   \n",
              "0   administration be clearly not totally oppose a...         0            1   \n",
              "1   qtr will look more like and much less like and...        -1            1   \n",
              "2   this be spot on be time large than ks and whol...         1            1   \n",
              "3   amd unveil new high end gpu and detail upcome ...         1            1   \n",
              "4                                                 NaN         0           -1   \n",
              "\n",
              "    sent_new_noros  bullish_proba  \n",
              "81              -1       0.498839  \n",
              "82              -1       0.498839  \n",
              "83               1       0.898402  \n",
              "84               1       0.961670  \n",
              "85               1       0.842373  \n",
              "0                1       0.797608  \n",
              "1                0       0.680076  \n",
              "2                1       0.858959  \n",
              "3                1       0.989958  \n",
              "4                1       0.842373  "
            ]
          },
          "metadata": {},
          "output_type": "display_data"
        },
        {
          "data": {
            "text/plain": [
              "array([ 1,  0, -1], dtype=int64)"
            ]
          },
          "metadata": {},
          "output_type": "display_data"
        },
        {
          "name": "stdout",
          "output_type": "stream",
          "text": [
            "<class 'pandas.core.frame.DataFrame'>\n",
            "Int64Index: 669295 entries, 0 to 4\n",
            "Data columns (total 13 columns):\n",
            " #   Column          Non-Null Count   Dtype  \n",
            "---  ------          --------------   -----  \n",
            " 0   ticker          669295 non-null  object \n",
            " 1   id_msg          669295 non-null  int64  \n",
            " 2   msg             669295 non-null  object \n",
            " 3   date            669295 non-null  object \n",
            " 4   sent            669295 non-null  int64  \n",
            " 5   id_user         669295 non-null  int64  \n",
            " 6   foll            669295 non-null  int64  \n",
            " 7   ideas           669295 non-null  int64  \n",
            " 8   clean_text      646487 non-null  object \n",
            " 9   sent_new        669295 non-null  int64  \n",
            " 10  sent_merged     669295 non-null  int64  \n",
            " 11  sent_new_noros  669295 non-null  int64  \n",
            " 12  bullish_proba   669295 non-null  float64\n",
            "dtypes: float64(1), int64(8), object(4)\n",
            "memory usage: 71.5+ MB\n"
          ]
        }
      ],
      "source": [
        "\n",
        "df1 = pd.read_csv(ruta_archivo_1)\n",
        "df2 = pd.read_csv(ruta_archivo_2)\n",
        "df3 = pd.read_csv(ruta_archivo_3)\n",
        "df4 = pd.read_csv(ruta_archivo_4)\n",
        "df5 = pd.read_csv(ruta_archivo_5)\n",
        "df6 = pd.read_csv(ruta_archivo_6)\n",
        "df7 = pd.read_csv(ruta_archivo_7)\n",
        "df8 = pd.read_csv(ruta_archivo_8)\n",
        "df9 = pd.read_csv(ruta_archivo_9)\n",
        "df10 = pd.read_csv(ruta_archivo_10)\n",
        "\n",
        "df = pd.concat([df1, df2, df3, df4, df5, df6, df7, df8, df9, df10], axis=0)\n",
        "\n",
        "# Visualizar las primeras filas del DataFrame\n",
        "display(df.head(10))\n",
        "display(df.tail(10))\n",
        "display(df['sent_merged'].unique())\n",
        "df.describe(include='all')\n",
        "df.info()\n"
      ]
    },
    {
      "cell_type": "markdown",
      "metadata": {
        "id": "QwOierGP0KWV"
      },
      "source": [
        "## Quitamos los registros sin etiqueta"
      ]
    },
    {
      "cell_type": "code",
      "execution_count": null,
      "metadata": {
        "id": "CLhz9f-mTRjM"
      },
      "outputs": [],
      "source": [
        "df = df[df['sent_merged'] != 0]\n",
        "df['sent_merged'] = df['sent_merged'].replace(-1, 0)"
      ]
    },
    {
      "cell_type": "code",
      "execution_count": null,
      "metadata": {
        "colab": {
          "base_uri": "https://localhost:8080/"
        },
        "id": "0osc7lWtcLl2",
        "outputId": "84323bbd-23d6-427d-f56c-d341b2d676f8"
      },
      "outputs": [
        {
          "name": "stdout",
          "output_type": "stream",
          "text": [
            "<class 'pandas.core.frame.DataFrame'>\n",
            "Int64Index: 604897 entries, 0 to 4\n",
            "Data columns (total 13 columns):\n",
            " #   Column          Non-Null Count   Dtype  \n",
            "---  ------          --------------   -----  \n",
            " 0   ticker          604897 non-null  object \n",
            " 1   id_msg          604897 non-null  int64  \n",
            " 2   msg             604897 non-null  object \n",
            " 3   date            604897 non-null  object \n",
            " 4   sent            604897 non-null  int64  \n",
            " 5   id_user         604897 non-null  int64  \n",
            " 6   foll            604897 non-null  int64  \n",
            " 7   ideas           604897 non-null  int64  \n",
            " 8   clean_text      596438 non-null  object \n",
            " 9   sent_new        604897 non-null  int64  \n",
            " 10  sent_merged     604897 non-null  int64  \n",
            " 11  sent_new_noros  604897 non-null  int64  \n",
            " 12  bullish_proba   604897 non-null  float64\n",
            "dtypes: float64(1), int64(8), object(4)\n",
            "memory usage: 64.6+ MB\n",
            "1    490331\n",
            "0    114566\n",
            "Name: sent_merged, dtype: int64\n"
          ]
        }
      ],
      "source": [
        "df.info()\n",
        "print(df['sent_merged'].value_counts())"
      ]
    },
    {
      "cell_type": "markdown",
      "metadata": {
        "id": "8lE_gCOA0KWV"
      },
      "source": [
        "## Balanceo undersampling\n"
      ]
    },
    {
      "cell_type": "code",
      "execution_count": null,
      "metadata": {
        "colab": {
          "base_uri": "https://localhost:8080/"
        },
        "id": "YzTf9fTG6zSO",
        "outputId": "66a85343-a5f3-4e32-8b35-c6a2ee008e33"
      },
      "outputs": [
        {
          "name": "stdout",
          "output_type": "stream",
          "text": [
            "<class 'pandas.core.frame.DataFrame'>\n",
            "RangeIndex: 229132 entries, 0 to 229131\n",
            "Data columns (total 2 columns):\n",
            " #   Column       Non-Null Count   Dtype \n",
            "---  ------       --------------   ----- \n",
            " 0   msg          229132 non-null  object\n",
            " 1   sent_merged  229132 non-null  int64 \n",
            "dtypes: int64(1), object(1)\n",
            "memory usage: 3.5+ MB\n",
            "0    114566\n",
            "1    114566\n",
            "Name: sent_merged, dtype: int64\n"
          ]
        }
      ],
      "source": [
        "#balanceamos por número de muestras ya que el DS es muy grande\n",
        "\n",
        "df= df[['msg' ,'sent_merged']] # Solo dejamos las columnas de interés\n",
        "\n",
        "\n",
        "# Filtrar los ejemplos con etiqueta 0\n",
        "df_0 = df[df['sent_merged'] == 0]\n",
        "df_1 = df[df['sent_merged'] == 1]\n",
        "\n",
        "# Calcular el número de ejemplos a muestrear\n",
        "n_samples = len(df_0)\n",
        "# Seleccionar aleatoriamente el mismo número de ejemplos de la clase 0\n",
        "df_1_sample = df_1.sample(n=n_samples, random_state=42)\n",
        "\n",
        "# Concatenar los ejemplos originales con los nuevos ejemplos\n",
        "df = pd.concat([df_0, df_1_sample], ignore_index=True) # Enclose the DataFrames to be concatenated in a list.\n",
        "\n",
        "df.info()\n",
        "print(df['sent_merged'].value_counts())"
      ]
    },
    {
      "cell_type": "markdown",
      "metadata": {
        "id": "HA-1trDH0KWV"
      },
      "source": [
        "## Preprocesamiento de los Tweets\n"
      ]
    },
    {
      "cell_type": "code",
      "execution_count": null,
      "metadata": {
        "id": "9jCztC0Z0KWW"
      },
      "outputs": [],
      "source": [
        "def preprocess_tweet(text):\n",
        "    text = re.sub(r'http\\S+|www.\\S+', '', text, flags=re.MULTILINE)\n",
        "    contraction_mapping = {\"ain't\": \"is not\", \"aren't\": \"are not\", \"can't\": \"cannot\",\n",
        "                           \"can't've\": \"cannot have\", \"'cause\": \"because\", \"could've\": \"could have\",\n",
        "                           \"couldn't\": \"could not\", \"couldn't've\": \"could not have\", \"didn't\": \"did not\",\n",
        "                           \"doesn't\": \"does not\", \"don't\": \"do not\", \"hadn't\": \"had not\",\n",
        "                           \"hadn't've\": \"had not have\", \"hasn't\": \"has not\", \"haven't\": \"have not\",\n",
        "                           \"he'd\": \"he would\", \"he'd've\": \"he would have\", \"he'll\": \"he will\",\n",
        "                           \"he'll've\": \"he will have\", \"he's\": \"he is\", \"how'd\": \"how did\",\n",
        "                           \"how'd'y\": \"how do you\", \"how'll\": \"how will\", \"how's\": \"how is\",\n",
        "                           \"I'd\": \"I would\", \"I'd've\": \"I would have\", \"I'll\": \"I will\",\n",
        "                           \"I'll've\": \"I will have\", \"I'm\": \"I am\", \"I've\": \"I have\",\n",
        "                           \"i'd\": \"i would\", \"i'd've\": \"i would have\", \"i'll\": \"i will\",\n",
        "                           \"i'll've\": \"i will have\", \"i'm\": \"i am\", \"i've\": \"i have\",\n",
        "                           \"isn't\": \"is not\", \"it'd\": \"it would\", \"it'd've\": \"it would have\",\n",
        "                           \"it'll\": \"it will\", \"it'll've\": \"it will have\", \"it's\": \"it is\",\n",
        "                           \"let's\": \"let us\", \"ma'am\": \"madam\", \"mayn't\": \"may not\",\n",
        "                           \"might've\": \"might have\", \"mightn't\": \"might not\", \"mightn't've\": \"might not have\",\n",
        "                           \"must've\": \"must have\", \"mustn't\": \"must not\", \"mustn't've\": \"must not have\",\n",
        "                           \"needn't\": \"need not\", \"needn't've\": \"need not have\", \"o'clock\": \"of the clock\",\n",
        "                           \"oughtn't\": \"ought not\", \"oughtn't've\": \"ought not have\", \"shan't\": \"shall not\",\n",
        "                           \"sha'n't\": \"shall not\", \"shan't've\": \"shall not have\", \"she'd\": \"she would\",\n",
        "                           \"she'd've\": \"she would have\", \"she'll\": \"she will\", \"she'll've\": \"she will have\",\n",
        "                           \"she's\": \"she is\", \"should've\": \"should have\", \"shouldn't\": \"should not\",\n",
        "                           \"shouldn't've\": \"should not have\", \"so've\": \"so have\", \"so's\": \"so as\",\n",
        "                           \"this's\": \"this is\",\n",
        "                           \"that'd\": \"that would\", \"that'd've\": \"that would have\", \"that's\": \"that is\",\n",
        "                           \"there'd\": \"there would\", \"there'd've\": \"there would have\", \"there's\": \"there is\",\n",
        "                           \"here's\": \"here is\",\n",
        "                           \"they'd\": \"they would\", \"they'd've\": \"they would have\", \"they'll\": \"they will\",\n",
        "                           \"they'll've\": \"they will have\", \"they're\": \"they are\", \"they've\": \"they have\",\n",
        "                           \"to've\": \"to have\", \"wasn't\": \"was not\", \"we'd\": \"we would\",\n",
        "                           \"we'd've\": \"we would have\", \"we'll\": \"we will\", \"we'll've\": \"we will have\",\n",
        "                           \"we're\": \"we are\", \"we've\": \"we have\", \"weren't\": \"were not\",\n",
        "                           \"what'll\": \"what will\", \"what'll've\": \"what will have\", \"what're\": \"what are\",\n",
        "                           \"what's\": \"what is\", \"what've\": \"what have\", \"when's\": \"when is\",\n",
        "                           \"when've\": \"when have\", \"where'd\": \"where did\", \"where's\": \"where is\",\n",
        "                           \"where've\": \"where have\", \"who'll\": \"who will\", \"who'll've\": \"who will have\",\n",
        "                           \"who's\": \"who is\", \"who've\": \"who have\", \"why's\": \"why is\",\n",
        "                           \"why've\": \"why have\", \"will've\": \"will have\", \"won't\": \"will not\",\n",
        "                           \"won't've\": \"will not have\", \"would've\": \"would have\", \"wouldn't\": \"would not\",\n",
        "                           \"wouldn't've\": \"would not have\", \"y'all\": \"you all\", \"y'all'd\": \"you all would\",\n",
        "                           \"y'all'd've\": \"you all would have\", \"y'all're\": \"you all are\", \"y'all've\": \"you all have\",\n",
        "                           \"you'd\": \"you would\", \"you'd've\": \"you would have\", \"you'll\": \"you will\",\n",
        "                           \"you'll've\": \"you will have\", \"you're\": \"you are\", \"you've\": \"you have\"}\n",
        "\n",
        "    apostrophe_handled = re.sub(\"’\", \"'\", text)                                                                         # keep only one type of apostrophe\n",
        "    try:\n",
        "        decoded = unidecode.unidecode(codecs.decode(apostrophe_handled, 'unicode_escape'))                              # decode in ascii\n",
        "    except:\n",
        "        decoded = unidecode.unidecode(apostrophe_handled)\n",
        "    expanded = ' '.join([contraction_mapping[t] if t in contraction_mapping else t for t in decoded.split(\" \")])        # map contraction form into expanded form\n",
        " #   no_urls = re.sub(r'http\\S+|www.\\S+', '', expanded, flags=re.MULTILINE)\n",
        "    noticks = re.sub(r'\\$\\S+', '', expanded, flags=re.MULTILINE)                                                        # remove tickers\n",
        "    nousers = re.sub(r'@\\S+', '', noticks, flags=re.MULTILINE)\n",
        "    punctuationfree=\"\".join([i.lower() for i in nousers if i not in string.punctuation])\n",
        "    tokens = re.split('\\W+', punctuationfree)\n",
        "    joined = ' '.join(tokens).lower()\n",
        "    spell_corrected = re.sub(r'(.)\\1+', r'\\1\\1', joined)\n",
        "    return spell_corrected\n",
        "\n",
        "df['Preprocessed_text']=[preprocess_tweet(txt) for txt in df['msg']]\n",
        "df = df[df['Preprocessed_text'].str.strip().astype(bool)]\n"
      ]
    },
    {
      "cell_type": "code",
      "execution_count": null,
      "metadata": {
        "colab": {
          "base_uri": "https://localhost:8080/",
          "height": 467
        },
        "id": "xStm6dAmf9BT",
        "outputId": "805fba4d-c965-4a29-ae44-1d34728b1588"
      },
      "outputs": [
        {
          "data": {
            "text/html": [
              "<div>\n",
              "<style scoped>\n",
              "    .dataframe tbody tr th:only-of-type {\n",
              "        vertical-align: middle;\n",
              "    }\n",
              "\n",
              "    .dataframe tbody tr th {\n",
              "        vertical-align: top;\n",
              "    }\n",
              "\n",
              "    .dataframe thead th {\n",
              "        text-align: right;\n",
              "    }\n",
              "</style>\n",
              "<table border=\"1\" class=\"dataframe\">\n",
              "  <thead>\n",
              "    <tr style=\"text-align: right;\">\n",
              "      <th></th>\n",
              "      <th>msg</th>\n",
              "      <th>sent_merged</th>\n",
              "      <th>Preprocessed_text</th>\n",
              "    </tr>\n",
              "  </thead>\n",
              "  <tbody>\n",
              "    <tr>\n",
              "      <th>0</th>\n",
              "      <td>morning preview: yelp drops, google splits, an...</td>\n",
              "      <td>0</td>\n",
              "      <td>morning preview yelp drops google splits and a...</td>\n",
              "    </tr>\n",
              "    <tr>\n",
              "      <th>1</th>\n",
              "      <td>$vrng $goog $googl reports saying samsung faul...</td>\n",
              "      <td>0</td>\n",
              "      <td>reports saying samsung faulting g for lawsuits</td>\n",
              "    </tr>\n",
              "    <tr>\n",
              "      <th>2</th>\n",
              "      <td>some saying only a fool would buy $goog instea...</td>\n",
              "      <td>0</td>\n",
              "      <td>some saying only a fool would buy instead of t...</td>\n",
              "    </tr>\n",
              "    <tr>\n",
              "      <th>3</th>\n",
              "      <td>oh, also. $googl/$googl growth dropped by 1.8%...</td>\n",
              "      <td>0</td>\n",
              "      <td>oh also growth dropped by 18 amp based on anot...</td>\n",
              "    </tr>\n",
              "    <tr>\n",
              "      <th>4</th>\n",
              "      <td>$googl looking for profit takers to bring this...</td>\n",
              "      <td>0</td>\n",
              "      <td>looking for profit takers to bring this down ...</td>\n",
              "    </tr>\n",
              "    <tr>\n",
              "      <th>5</th>\n",
              "      <td>$goog $googl gonna go red today lol ....   $aapl</td>\n",
              "      <td>0</td>\n",
              "      <td>gonna go red today lol</td>\n",
              "    </tr>\n",
              "    <tr>\n",
              "      <th>6</th>\n",
              "      <td>$googl sold puts for a double.... no greed</td>\n",
              "      <td>0</td>\n",
              "      <td>sold puts for a double no greed</td>\n",
              "    </tr>\n",
              "    <tr>\n",
              "      <th>7</th>\n",
              "      <td>$googl higher pps than novote $goog as expecte...</td>\n",
              "      <td>0</td>\n",
              "      <td>higher pps than novote as expected beginning ...</td>\n",
              "    </tr>\n",
              "    <tr>\n",
              "      <th>8</th>\n",
              "      <td>$es_f cramer says sell sell sell $googl</td>\n",
              "      <td>0</td>\n",
              "      <td>cramer says sell sell sell</td>\n",
              "    </tr>\n",
              "    <tr>\n",
              "      <th>9</th>\n",
              "      <td>$tsla 15min h&amp;amp;s primed and ready $qqq $aap...</td>\n",
              "      <td>0</td>\n",
              "      <td>15min hamps primed and ready</td>\n",
              "    </tr>\n",
              "  </tbody>\n",
              "</table>\n",
              "</div>"
            ],
            "text/plain": [
              "                                                 msg  sent_merged  \\\n",
              "0  morning preview: yelp drops, google splits, an...            0   \n",
              "1  $vrng $goog $googl reports saying samsung faul...            0   \n",
              "2  some saying only a fool would buy $goog instea...            0   \n",
              "3  oh, also. $googl/$googl growth dropped by 1.8%...            0   \n",
              "4  $googl looking for profit takers to bring this...            0   \n",
              "5   $goog $googl gonna go red today lol ....   $aapl            0   \n",
              "6         $googl sold puts for a double.... no greed            0   \n",
              "7  $googl higher pps than novote $goog as expecte...            0   \n",
              "8            $es_f cramer says sell sell sell $googl            0   \n",
              "9  $tsla 15min h&amp;s primed and ready $qqq $aap...            0   \n",
              "\n",
              "                                   Preprocessed_text  \n",
              "0  morning preview yelp drops google splits and a...  \n",
              "1     reports saying samsung faulting g for lawsuits  \n",
              "2  some saying only a fool would buy instead of t...  \n",
              "3  oh also growth dropped by 18 amp based on anot...  \n",
              "4   looking for profit takers to bring this down ...  \n",
              "5                            gonna go red today lol   \n",
              "6                    sold puts for a double no greed  \n",
              "7   higher pps than novote as expected beginning ...  \n",
              "8                        cramer says sell sell sell   \n",
              "9                      15min hamps primed and ready   "
            ]
          },
          "metadata": {},
          "output_type": "display_data"
        }
      ],
      "source": [
        "display(df.head(10))"
      ]
    },
    {
      "cell_type": "markdown",
      "metadata": {
        "id": "tQxs93p80KWW"
      },
      "source": [
        "## Preparar los datos para Entrnamiento"
      ]
    },
    {
      "cell_type": "code",
      "execution_count": null,
      "metadata": {
        "id": "uHYW6vhJf_on"
      },
      "outputs": [],
      "source": [
        "x_train, x_test, y_train, y_test = train_test_split(df['Preprocessed_text'], df['sent_merged'], test_size=0.2, random_state=10)\n",
        "x_val, x_test, y_val, y_test = train_test_split(x_test, y_test, test_size=0.5, random_state=10)\n",
        "\n",
        "## Partimos el conjunto de datos, se hace Tokenización Y Passing para crear Secuencias\n",
        "tokenizer = Tokenizer()\n",
        "tokenizer.fit_on_texts(df['Preprocessed_text'])\n",
        "word_index = tokenizer.word_index\n",
        "index_word = tokenizer.index_word\n",
        "\n",
        "x_train_seq = tokenizer.texts_to_sequences(x_train)\n",
        "x_val_seq = tokenizer.texts_to_sequences(x_val)\n",
        "x_test_seq = tokenizer.texts_to_sequences(x_test)\n",
        "x_train_seq = pad_sequences(x_train_seq, maxlen=20, padding='post')\n",
        "x_val_seq = pad_sequences(x_val_seq, maxlen=20, padding='post')\n",
        "x_test_seq = pad_sequences(x_test_seq, maxlen=20, padding='post')"
      ]
    },
    {
      "cell_type": "code",
      "execution_count": null,
      "metadata": {
        "colab": {
          "base_uri": "https://localhost:8080/",
          "height": 72
        },
        "id": "E90t6VIDgVUc",
        "outputId": "8d0bb1bc-5530-4623-bd10-f6bb8263714e"
      },
      "outputs": [
        {
          "data": {
            "text/plain": [
              "180988"
            ]
          },
          "metadata": {},
          "output_type": "display_data"
        },
        {
          "data": {
            "text/plain": [
              "76292"
            ]
          },
          "metadata": {},
          "output_type": "display_data"
        },
        {
          "data": {
            "text/plain": [
              "76292"
            ]
          },
          "metadata": {},
          "output_type": "display_data"
        },
        {
          "data": {
            "text/plain": [
              "180988"
            ]
          },
          "metadata": {},
          "output_type": "display_data"
        }
      ],
      "source": [
        "display(len(x_train_seq))\n",
        "display(len(word_index))\n",
        "display(len(index_word))\n",
        "display(x_train_seq.shape[0])"
      ]
    },
    {
      "cell_type": "markdown",
      "metadata": {
        "id": "xwABmXQl0KWX"
      },
      "source": [
        "## Arquitectura y Entrenamiento"
      ]
    },
    {
      "cell_type": "code",
      "execution_count": null,
      "metadata": {
        "colab": {
          "base_uri": "https://localhost:8080/"
        },
        "id": "W-RhhdMOgicq",
        "outputId": "f18030bb-f9cd-4381-b56b-8d2baf228b16"
      },
      "outputs": [
        {
          "name": "stdout",
          "output_type": "stream",
          "text": [
            "Epoch 1/8\n",
            "\u001b[1m12/12\u001b[0m \u001b[32m━━━━━━━━━━━━━━━━━━━━\u001b[0m\u001b[37m\u001b[0m \u001b[1m12s\u001b[0m 857ms/step - accuracy: 0.5016 - loss: 0.6933 - val_accuracy: 0.6193 - val_loss: 0.6913\n",
            "Epoch 2/8\n",
            "\u001b[1m12/12\u001b[0m \u001b[32m━━━━━━━━━━━━━━━━━━━━\u001b[0m\u001b[37m\u001b[0m \u001b[1m10s\u001b[0m 842ms/step - accuracy: 0.5695 - loss: 0.6866 - val_accuracy: 0.7300 - val_loss: 0.5939\n",
            "Epoch 3/8\n",
            "\u001b[1m12/12\u001b[0m \u001b[32m━━━━━━━━━━━━━━━━━━━━\u001b[0m\u001b[37m\u001b[0m \u001b[1m11s\u001b[0m 863ms/step - accuracy: 0.7308 - loss: 0.5625 - val_accuracy: 0.8023 - val_loss: 0.4374\n",
            "Epoch 4/8\n",
            "\u001b[1m12/12\u001b[0m \u001b[32m━━━━━━━━━━━━━━━━━━━━\u001b[0m\u001b[37m\u001b[0m \u001b[1m10s\u001b[0m 852ms/step - accuracy: 0.8038 - loss: 0.4486 - val_accuracy: 0.8202 - val_loss: 0.4072\n",
            "Epoch 5/8\n",
            "\u001b[1m12/12\u001b[0m \u001b[32m━━━━━━━━━━━━━━━━━━━━\u001b[0m\u001b[37m\u001b[0m \u001b[1m11s\u001b[0m 908ms/step - accuracy: 0.8252 - loss: 0.4083 - val_accuracy: 0.8276 - val_loss: 0.3928\n",
            "Epoch 6/8\n",
            "\u001b[1m12/12\u001b[0m \u001b[32m━━━━━━━━━━━━━━━━━━━━\u001b[0m\u001b[37m\u001b[0m \u001b[1m11s\u001b[0m 876ms/step - accuracy: 0.8395 - loss: 0.3785 - val_accuracy: 0.8280 - val_loss: 0.3872\n",
            "Epoch 7/8\n",
            "\u001b[1m12/12\u001b[0m \u001b[32m━━━━━━━━━━━━━━━━━━━━\u001b[0m\u001b[37m\u001b[0m \u001b[1m10s\u001b[0m 864ms/step - accuracy: 0.8497 - loss: 0.3579 - val_accuracy: 0.8314 - val_loss: 0.3833\n",
            "Epoch 8/8\n",
            "\u001b[1m12/12\u001b[0m \u001b[32m━━━━━━━━━━━━━━━━━━━━\u001b[0m\u001b[37m\u001b[0m \u001b[1m10s\u001b[0m 853ms/step - accuracy: 0.8582 - loss: 0.3415 - val_accuracy: 0.8313 - val_loss: 0.3845\n",
            "\u001b[1m707/707\u001b[0m \u001b[32m━━━━━━━━━━━━━━━━━━━━\u001b[0m\u001b[37m\u001b[0m \u001b[1m1s\u001b[0m 2ms/step - accuracy: 0.8291 - loss: 0.3884\n"
          ]
        }
      ],
      "source": [
        "from tensorflow.keras.models import Sequential\n",
        "from tensorflow.keras.layers import Embedding, Conv1D, Flatten, Dense, Dropout, GlobalMaxPooling1D\n",
        "from tensorflow.keras.callbacks import EarlyStopping\n",
        "\n",
        "# Definición del modelo\n",
        "model = Sequential()# Capa de embedding\n",
        "model.add(Embedding(input_dim=len(word_index)+1, output_dim=100))# Primera capa de Dropout\n",
        "model.add(Dropout(0.5))# Primera capa convolucional\n",
        "model.add(Conv1D(100, kernel_size=3, activation='relu', padding='same'))# Segunda capa convolucional\n",
        "model.add(Conv1D(100, kernel_size=3, activation='relu', padding='same'))# Tercera capa convolucional\n",
        "model.add(Conv1D(100, kernel_size=3, activation='relu', padding='same'))# Capa de Flatten\n",
        "model.add(GlobalMaxPooling1D())\n",
        "model.add(Dropout(0.5))# Primera capa densa\n",
        "model.add(Dense(150, activation='relu'))# Tercera capa de Dropout\n",
        "model.add(Dropout(0.5))# Capa de salida\n",
        "model.add(Dense(1, activation='sigmoid'))\n",
        "\n",
        "# Compilación del modelo\n",
        "model.compile(loss='binary_crossentropy', optimizer='adam', metrics=['accuracy'])\n",
        "\n",
        "# Early stopping\n",
        "early_stopping = EarlyStopping(monitor='val_loss', patience=3, restore_best_weights=True)\n",
        "\n",
        "# # Parámetros de entrenamiento\n",
        "epochs = 8\n",
        "batch_size = 16384\n",
        "\n",
        "# Entrenamiento del modelo\n",
        "history = model.fit(x_train_seq, y_train, epochs=epochs, batch_size=batch_size, validation_data=(x_val_seq, y_val), callbacks=[early_stopping])\n",
        "\n",
        "# Evaluación del modelo\n",
        "model_performance = {\n",
        "    \"Name\": [\"Conv1D Layers - Global Max Pooling\"],\n",
        "    \"Validation Accuracy\": [max(history.history['val_accuracy'])],\n",
        "    \"Test Accuracy\": [model.evaluate(x_test_seq, y_test)[1]],\n",
        "}\n",
        "\n"
      ]
    },
    {
      "cell_type": "markdown",
      "metadata": {
        "id": "o7WjlR1o0KWX"
      },
      "source": [
        "## Evaluación del Modelo"
      ]
    },
    {
      "cell_type": "code",
      "execution_count": null,
      "metadata": {
        "colab": {
          "base_uri": "https://localhost:8080/",
          "height": 89
        },
        "id": "0-HafVUnglZy",
        "outputId": "9fbff119-5145-40be-d377-f52f8b1f718a"
      },
      "outputs": [
        {
          "data": {
            "text/html": [
              "<div>\n",
              "<style scoped>\n",
              "    .dataframe tbody tr th:only-of-type {\n",
              "        vertical-align: middle;\n",
              "    }\n",
              "\n",
              "    .dataframe tbody tr th {\n",
              "        vertical-align: top;\n",
              "    }\n",
              "\n",
              "    .dataframe thead th {\n",
              "        text-align: right;\n",
              "    }\n",
              "</style>\n",
              "<table border=\"1\" class=\"dataframe\">\n",
              "  <thead>\n",
              "    <tr style=\"text-align: right;\">\n",
              "      <th></th>\n",
              "      <th>Name</th>\n",
              "      <th>Validation Accuracy</th>\n",
              "      <th>Test Accuracy</th>\n",
              "    </tr>\n",
              "  </thead>\n",
              "  <tbody>\n",
              "    <tr>\n",
              "      <th>0</th>\n",
              "      <td>Conv1D Layers - Global Max Pooling</td>\n",
              "      <td>0.831418</td>\n",
              "      <td>0.832214</td>\n",
              "    </tr>\n",
              "  </tbody>\n",
              "</table>\n",
              "</div>"
            ],
            "text/plain": [
              "                                 Name  Validation Accuracy  Test Accuracy\n",
              "0  Conv1D Layers - Global Max Pooling             0.831418       0.832214"
            ]
          },
          "metadata": {},
          "output_type": "display_data"
        }
      ],
      "source": [
        "model_performances=pd.DataFrame(columns=[\"Name\",\"Validation Accuracy\",\"Test Accuracy\"],data=None)\n",
        "model_performances = pd.concat([model_performances, pd.DataFrame(model_performance)], ignore_index=True)\n",
        "display(model_performances)"
      ]
    },
    {
      "cell_type": "code",
      "execution_count": null,
      "metadata": {
        "colab": {
          "base_uri": "https://localhost:8080/",
          "height": 1000
        },
        "id": "wVlTg-TDg79A",
        "outputId": "7f878175-3628-48af-821d-6d4e10047f4f"
      },
      "outputs": [
        {
          "name": "stdout",
          "output_type": "stream",
          "text": [
            "\u001b[1m707/707\u001b[0m \u001b[32m━━━━━━━━━━━━━━━━━━━━\u001b[0m\u001b[37m\u001b[0m \u001b[1m1s\u001b[0m 2ms/step\n"
          ]
        },
        {
          "data": {
            "image/png": "[encoded data removed]",
            "text/plain": [
              "<Figure size 600x400 with 2 Axes>"
            ]
          },
          "metadata": {},
          "output_type": "display_data"
        },
        {
          "data": {
            "image/png": "[encoded data removed]",
            "text/plain": [
              "<Figure size 600x400 with 1 Axes>"
            ]
          },
          "metadata": {},
          "output_type": "display_data"
        },
        {
          "name": "stdout",
          "output_type": "stream",
          "text": [
            "Informe de Clasificación:\n",
            "              precision    recall  f1-score   support\n",
            "\n",
            "           0       0.83      0.83      0.83     11261\n",
            "           1       0.83      0.83      0.83     11363\n",
            "\n",
            "    accuracy                           0.83     22624\n",
            "   macro avg       0.83      0.83      0.83     22624\n",
            "weighted avg       0.83      0.83      0.83     22624\n",
            "\n"
          ]
        },
        {
          "data": {
            "image/png": "[encoded data removed]",
            "text/plain": [
              "<Figure size 600x400 with 1 Axes>"
            ]
          },
          "metadata": {},
          "output_type": "display_data"
        },
        {
          "data": {
            "image/png": "[encoded data removed]",
            "text/plain": [
              "<Figure size 600x400 with 1 Axes>"
            ]
          },
          "metadata": {},
          "output_type": "display_data"
        }
      ],
      "source": [
        "import matplotlib.pyplot as plt\n",
        "from sklearn.metrics import confusion_matrix, roc_curve, auc, classification_report\n",
        "import seaborn as sns\n",
        "import numpy as np\n",
        "\n",
        "# Predicciones en el conjunto de test\n",
        "y_pred_prob = model.predict(x_test_seq)  # Predicción de probabilidades\n",
        "y_pred_class = (y_pred_prob > 0.5).astype(\"int32\")  # Convertir probabilidades a 0 o 1\n",
        "\n",
        "# 1. Matriz de confusión\n",
        "cm = confusion_matrix(y_test, y_pred_class)\n",
        "plt.figure(figsize=(6, 4))\n",
        "sns.heatmap(cm, annot=True, fmt='d', cmap='Blues', xticklabels=['Negativo', 'Positivo'], yticklabels=['Negativo', 'Positivo'])\n",
        "plt.ylabel('Etiqueta Verdadera')\n",
        "plt.xlabel('Etiqueta Predicha')\n",
        "plt.title('Matriz de Confusión')\n",
        "plt.show()\n",
        "\n",
        "# 2. Curva ROC y AUC\n",
        "fpr, tpr, _ = roc_curve(y_test, y_pred_prob)\n",
        "roc_auc = auc(fpr, tpr)\n",
        "\n",
        "plt.figure(figsize=(6, 4))\n",
        "plt.plot(fpr, tpr, color='darkorange', lw=2, label='AUC = %0.2f' % roc_auc)\n",
        "plt.plot([0, 1], [0, 1], color='navy', lw=2, linestyle='--')\n",
        "plt.xlim([0.0, 1.0])\n",
        "plt.ylim([0.0, 1.05])\n",
        "plt.xlabel('Tasa de Falsos Positivos')\n",
        "plt.ylabel('Tasa de Verdaderos Positivos')\n",
        "plt.title('Curva ROC')\n",
        "plt.legend(loc=\"lower right\")\n",
        "plt.show()\n",
        "\n",
        "# 3. Informe de clasificación (precision, recall, F1-score)\n",
        "print('Informe de Clasificación:')\n",
        "print(classification_report(y_test, y_pred_class))\n",
        "\n",
        "# 4. Gráficos de la precisión y la pérdida\n",
        "# Precisión\n",
        "plt.figure(figsize=(6, 4))\n",
        "plt.plot(history.history['accuracy'], label='Precisión de entrenamiento')\n",
        "plt.plot(history.history['val_accuracy'], label='Precisión de validación')\n",
        "plt.title('Precisión del modelo')\n",
        "plt.ylabel('Precisión')\n",
        "plt.xlabel('Época')\n",
        "plt.legend(loc='upper left')\n",
        "plt.show()\n",
        "\n",
        "# Pérdida\n",
        "plt.figure(figsize=(6, 4))\n",
        "plt.plot(history.history['loss'], label='Pérdida de entrenamiento')\n",
        "plt.plot(history.history['val_loss'], label='Pérdida de validación')\n",
        "plt.title('Pérdida del modelo')\n",
        "plt.ylabel('Pérdida')\n",
        "plt.xlabel('Época')\n",
        "plt.legend(loc='upper left')\n",
        "plt.show()"
      ]
    },
    {
      "cell_type": "markdown",
      "metadata": {
        "id": "BT3XT-EB0KWX"
      },
      "source": [
        "## Ahora Importamos conjunto de datos de producción para testear el modelo"
      ]
    },
    {
      "cell_type": "code",
      "execution_count": null,
      "metadata": {
        "id": "9pxdbUVP5GMI",
        "outputId": "d567de0c-1216-4f77-b21b-e6683d601a58"
      },
      "outputs": [
        {
          "data": {
            "text/plain": [
              "290576"
            ]
          },
          "metadata": {},
          "output_type": "display_data"
        },
        {
          "data": {
            "text/html": [
              "<div>\n",
              "<style scoped>\n",
              "    .dataframe tbody tr th:only-of-type {\n",
              "        vertical-align: middle;\n",
              "    }\n",
              "\n",
              "    .dataframe tbody tr th {\n",
              "        vertical-align: top;\n",
              "    }\n",
              "\n",
              "    .dataframe thead th {\n",
              "        text-align: right;\n",
              "    }\n",
              "</style>\n",
              "<table border=\"1\" class=\"dataframe\">\n",
              "  <thead>\n",
              "    <tr style=\"text-align: right;\">\n",
              "      <th></th>\n",
              "      <th>simbolo</th>\n",
              "      <th>mensaje</th>\n",
              "      <th>fecha_creacion</th>\n",
              "      <th>nombre_usuario</th>\n",
              "      <th>fecha_creacion_usuario</th>\n",
              "      <th>oficial</th>\n",
              "      <th>identidad</th>\n",
              "      <th>titulo_link</th>\n",
              "      <th>descripcion_link</th>\n",
              "      <th>fecha_creacion_link</th>\n",
              "      <th>sentimiento</th>\n",
              "    </tr>\n",
              "  </thead>\n",
              "  <tbody>\n",
              "    <tr>\n",
              "      <th>0</th>\n",
              "      <td>GOOGL</td>\n",
              "      <td>$GOOGL it favors upside as the part of 3 of (3...</td>\n",
              "      <td>2024-08-21T05:36:13Z</td>\n",
              "      <td>ElliottwaveForecast</td>\n",
              "      <td>2012-01-10</td>\n",
              "      <td>True</td>\n",
              "      <td>Official</td>\n",
              "      <td>NaN</td>\n",
              "      <td>NaN</td>\n",
              "      <td>NaN</td>\n",
              "      <td>NaN</td>\n",
              "    </tr>\n",
              "    <tr>\n",
              "      <th>1</th>\n",
              "      <td>ECPG</td>\n",
              "      <td>$ECPG  $GOOGL 🏆💸</td>\n",
              "      <td>2024-08-21T04:17:45Z</td>\n",
              "      <td>Jduubbbb</td>\n",
              "      <td>2024-02-05</td>\n",
              "      <td>False</td>\n",
              "      <td>User</td>\n",
              "      <td>NaN</td>\n",
              "      <td>NaN</td>\n",
              "      <td>NaN</td>\n",
              "      <td>NaN</td>\n",
              "    </tr>\n",
              "    <tr>\n",
              "      <th>2</th>\n",
              "      <td>AMZN</td>\n",
              "      <td>$NVDA AI Usecases for Common man: \\n\\nCopilot ...</td>\n",
              "      <td>2024-08-21T04:12:05Z</td>\n",
              "      <td>OG9</td>\n",
              "      <td>2022-12-09</td>\n",
              "      <td>False</td>\n",
              "      <td>User</td>\n",
              "      <td>NaN</td>\n",
              "      <td>NaN</td>\n",
              "      <td>NaN</td>\n",
              "      <td>Bullish</td>\n",
              "    </tr>\n",
              "    <tr>\n",
              "      <th>3</th>\n",
              "      <td>T</td>\n",
              "      <td>$ASTS $GOOGL $VOD $T \\nASTS v Starlink and why...</td>\n",
              "      <td>2024-08-21T03:43:02Z</td>\n",
              "      <td>DooScooby7</td>\n",
              "      <td>2021-02-12</td>\n",
              "      <td>False</td>\n",
              "      <td>User</td>\n",
              "      <td>NaN</td>\n",
              "      <td>NaN</td>\n",
              "      <td>NaN</td>\n",
              "      <td>Bullish</td>\n",
              "    </tr>\n",
              "    <tr>\n",
              "      <th>4</th>\n",
              "      <td>GOOGL</td>\n",
              "      <td>@cubie @jargv @Alvi722 @EBE_Day @ribbey @Thrax...</td>\n",
              "      <td>2024-08-21T03:10:09Z</td>\n",
              "      <td>jenbunn</td>\n",
              "      <td>2016-06-07</td>\n",
              "      <td>False</td>\n",
              "      <td>User</td>\n",
              "      <td>NaN</td>\n",
              "      <td>NaN</td>\n",
              "      <td>NaN</td>\n",
              "      <td>NaN</td>\n",
              "    </tr>\n",
              "    <tr>\n",
              "      <th>5</th>\n",
              "      <td>AMZN</td>\n",
              "      <td>$NVDA after earnings moving all to $AMZN and $...</td>\n",
              "      <td>2024-08-21T02:54:14Z</td>\n",
              "      <td>iHitPredict</td>\n",
              "      <td>2024-03-04</td>\n",
              "      <td>False</td>\n",
              "      <td>User</td>\n",
              "      <td>NaN</td>\n",
              "      <td>NaN</td>\n",
              "      <td>NaN</td>\n",
              "      <td>NaN</td>\n",
              "    </tr>\n",
              "    <tr>\n",
              "      <th>6</th>\n",
              "      <td>GOOGL</td>\n",
              "      <td>$GOOGL Waymo’s everywhere in CA! Soon they wil...</td>\n",
              "      <td>2024-08-21T02:17:48Z</td>\n",
              "      <td>DRockTrading</td>\n",
              "      <td>2017-12-20</td>\n",
              "      <td>False</td>\n",
              "      <td>User</td>\n",
              "      <td>NaN</td>\n",
              "      <td>NaN</td>\n",
              "      <td>NaN</td>\n",
              "      <td>Bullish</td>\n",
              "    </tr>\n",
              "    <tr>\n",
              "      <th>7</th>\n",
              "      <td>GOOG</td>\n",
              "      <td>$GOOGL Runner $GOOG $DIA</td>\n",
              "      <td>2024-08-21T02:02:44Z</td>\n",
              "      <td>uyenng25_</td>\n",
              "      <td>2023-10-25</td>\n",
              "      <td>False</td>\n",
              "      <td>User</td>\n",
              "      <td>NaN</td>\n",
              "      <td>NaN</td>\n",
              "      <td>NaN</td>\n",
              "      <td>NaN</td>\n",
              "    </tr>\n",
              "    <tr>\n",
              "      <th>8</th>\n",
              "      <td>GOOG</td>\n",
              "      <td>$UBER $LYFT $GOOG $GOOGL</td>\n",
              "      <td>2024-08-21T00:47:10Z</td>\n",
              "      <td>Avocado_smash</td>\n",
              "      <td>2021-07-10</td>\n",
              "      <td>False</td>\n",
              "      <td>User</td>\n",
              "      <td>NaN</td>\n",
              "      <td>NaN</td>\n",
              "      <td>NaN</td>\n",
              "      <td>NaN</td>\n",
              "    </tr>\n",
              "    <tr>\n",
              "      <th>9</th>\n",
              "      <td>GOOGL</td>\n",
              "      <td>$GOOGL</td>\n",
              "      <td>2024-08-20T23:31:28Z</td>\n",
              "      <td>Rufio8711</td>\n",
              "      <td>2016-04-15</td>\n",
              "      <td>False</td>\n",
              "      <td>User</td>\n",
              "      <td>NaN</td>\n",
              "      <td>NaN</td>\n",
              "      <td>NaN</td>\n",
              "      <td>NaN</td>\n",
              "    </tr>\n",
              "  </tbody>\n",
              "</table>\n",
              "</div>"
            ],
            "text/plain": [
              "  simbolo                                            mensaje  \\\n",
              "0   GOOGL  $GOOGL it favors upside as the part of 3 of (3...   \n",
              "1    ECPG                                   $ECPG  $GOOGL 🏆💸   \n",
              "2    AMZN  $NVDA AI Usecases for Common man: \\n\\nCopilot ...   \n",
              "3       T  $ASTS $GOOGL $VOD $T \\nASTS v Starlink and why...   \n",
              "4   GOOGL  @cubie @jargv @Alvi722 @EBE_Day @ribbey @Thrax...   \n",
              "5    AMZN  $NVDA after earnings moving all to $AMZN and $...   \n",
              "6   GOOGL  $GOOGL Waymo’s everywhere in CA! Soon they wil...   \n",
              "7    GOOG                           $GOOGL Runner $GOOG $DIA   \n",
              "8    GOOG                           $UBER $LYFT $GOOG $GOOGL   \n",
              "9   GOOGL                                             $GOOGL   \n",
              "\n",
              "         fecha_creacion       nombre_usuario fecha_creacion_usuario  oficial  \\\n",
              "0  2024-08-21T05:36:13Z  ElliottwaveForecast             2012-01-10     True   \n",
              "1  2024-08-21T04:17:45Z             Jduubbbb             2024-02-05    False   \n",
              "2  2024-08-21T04:12:05Z                  OG9             2022-12-09    False   \n",
              "3  2024-08-21T03:43:02Z           DooScooby7             2021-02-12    False   \n",
              "4  2024-08-21T03:10:09Z              jenbunn             2016-06-07    False   \n",
              "5  2024-08-21T02:54:14Z          iHitPredict             2024-03-04    False   \n",
              "6  2024-08-21T02:17:48Z         DRockTrading             2017-12-20    False   \n",
              "7  2024-08-21T02:02:44Z            uyenng25_             2023-10-25    False   \n",
              "8  2024-08-21T00:47:10Z        Avocado_smash             2021-07-10    False   \n",
              "9  2024-08-20T23:31:28Z            Rufio8711             2016-04-15    False   \n",
              "\n",
              "  identidad titulo_link descripcion_link fecha_creacion_link sentimiento  \n",
              "0  Official         NaN              NaN                 NaN         NaN  \n",
              "1      User         NaN              NaN                 NaN         NaN  \n",
              "2      User         NaN              NaN                 NaN     Bullish  \n",
              "3      User         NaN              NaN                 NaN     Bullish  \n",
              "4      User         NaN              NaN                 NaN         NaN  \n",
              "5      User         NaN              NaN                 NaN         NaN  \n",
              "6      User         NaN              NaN                 NaN     Bullish  \n",
              "7      User         NaN              NaN                 NaN         NaN  \n",
              "8      User         NaN              NaN                 NaN         NaN  \n",
              "9      User         NaN              NaN                 NaN         NaN  "
            ]
          },
          "metadata": {},
          "output_type": "display_data"
        },
        {
          "data": {
            "text/plain": [
              "22732"
            ]
          },
          "metadata": {},
          "output_type": "display_data"
        },
        {
          "data": {
            "text/html": [
              "<div>\n",
              "<style scoped>\n",
              "    .dataframe tbody tr th:only-of-type {\n",
              "        vertical-align: middle;\n",
              "    }\n",
              "\n",
              "    .dataframe tbody tr th {\n",
              "        vertical-align: top;\n",
              "    }\n",
              "\n",
              "    .dataframe thead th {\n",
              "        text-align: right;\n",
              "    }\n",
              "</style>\n",
              "<table border=\"1\" class=\"dataframe\">\n",
              "  <thead>\n",
              "    <tr style=\"text-align: right;\">\n",
              "      <th></th>\n",
              "      <th>mensaje</th>\n",
              "      <th>sentimiento</th>\n",
              "    </tr>\n",
              "  </thead>\n",
              "  <tbody>\n",
              "    <tr>\n",
              "      <th>0</th>\n",
              "      <td>$GOOGL it favors upside as the part of 3 of (3...</td>\n",
              "      <td>NaN</td>\n",
              "    </tr>\n",
              "    <tr>\n",
              "      <th>1</th>\n",
              "      <td>$ECPG  $GOOGL 🏆💸</td>\n",
              "      <td>NaN</td>\n",
              "    </tr>\n",
              "    <tr>\n",
              "      <th>2</th>\n",
              "      <td>$NVDA AI Usecases for Common man: \\n\\nCopilot ...</td>\n",
              "      <td>Bullish</td>\n",
              "    </tr>\n",
              "    <tr>\n",
              "      <th>3</th>\n",
              "      <td>$ASTS $GOOGL $VOD $T \\nASTS v Starlink and why...</td>\n",
              "      <td>Bullish</td>\n",
              "    </tr>\n",
              "    <tr>\n",
              "      <th>4</th>\n",
              "      <td>@cubie @jargv @Alvi722 @EBE_Day @ribbey @Thrax...</td>\n",
              "      <td>NaN</td>\n",
              "    </tr>\n",
              "    <tr>\n",
              "      <th>5</th>\n",
              "      <td>$NVDA after earnings moving all to $AMZN and $...</td>\n",
              "      <td>NaN</td>\n",
              "    </tr>\n",
              "    <tr>\n",
              "      <th>6</th>\n",
              "      <td>$GOOGL Waymo’s everywhere in CA! Soon they wil...</td>\n",
              "      <td>Bullish</td>\n",
              "    </tr>\n",
              "    <tr>\n",
              "      <th>7</th>\n",
              "      <td>$GOOGL Runner $GOOG $DIA</td>\n",
              "      <td>NaN</td>\n",
              "    </tr>\n",
              "    <tr>\n",
              "      <th>8</th>\n",
              "      <td>$UBER $LYFT $GOOG $GOOGL</td>\n",
              "      <td>NaN</td>\n",
              "    </tr>\n",
              "    <tr>\n",
              "      <th>9</th>\n",
              "      <td>$GOOGL</td>\n",
              "      <td>NaN</td>\n",
              "    </tr>\n",
              "  </tbody>\n",
              "</table>\n",
              "</div>"
            ],
            "text/plain": [
              "                                             mensaje sentimiento\n",
              "0  $GOOGL it favors upside as the part of 3 of (3...         NaN\n",
              "1                                   $ECPG  $GOOGL 🏆💸         NaN\n",
              "2  $NVDA AI Usecases for Common man: \\n\\nCopilot ...     Bullish\n",
              "3  $ASTS $GOOGL $VOD $T \\nASTS v Starlink and why...     Bullish\n",
              "4  @cubie @jargv @Alvi722 @EBE_Day @ribbey @Thrax...         NaN\n",
              "5  $NVDA after earnings moving all to $AMZN and $...         NaN\n",
              "6  $GOOGL Waymo’s everywhere in CA! Soon they wil...     Bullish\n",
              "7                           $GOOGL Runner $GOOG $DIA         NaN\n",
              "8                           $UBER $LYFT $GOOG $GOOGL         NaN\n",
              "9                                             $GOOGL         NaN"
            ]
          },
          "metadata": {},
          "output_type": "display_data"
        }
      ],
      "source": [
        "ruta_test = \"GOOGL_mensajes.csv\"\n",
        "df_new = pd.read_csv(ruta_test)\n",
        "display(len(df_new))\n",
        "display(df_new.head(10))\n",
        "df_new['fecha_creacion'] = pd.to_datetime(df_new['fecha_creacion'])\n",
        "df_new = df_new[df_new['fecha_creacion'].dt.year == 2024]\n",
        "display(len(df_new))\n",
        "df_new = df_new[[\"mensaje\",\"sentimiento\"]]\n",
        "display(df_new.head(10))"
      ]
    },
    {
      "cell_type": "code",
      "execution_count": null,
      "metadata": {
        "id": "I408yg0W0KWY",
        "outputId": "43c838c0-62e9-4d7c-d18b-45feadc95c76"
      },
      "outputs": [
        {
          "name": "stdout",
          "output_type": "stream",
          "text": [
            "Bullish    7730\n",
            "Bearish    2004\n",
            "Name: sentimiento, dtype: int64\n"
          ]
        },
        {
          "data": {
            "text/plain": [
              "9734"
            ]
          },
          "metadata": {},
          "output_type": "display_data"
        },
        {
          "data": {
            "text/html": [
              "<div>\n",
              "<style scoped>\n",
              "    .dataframe tbody tr th:only-of-type {\n",
              "        vertical-align: middle;\n",
              "    }\n",
              "\n",
              "    .dataframe tbody tr th {\n",
              "        vertical-align: top;\n",
              "    }\n",
              "\n",
              "    .dataframe thead th {\n",
              "        text-align: right;\n",
              "    }\n",
              "</style>\n",
              "<table border=\"1\" class=\"dataframe\">\n",
              "  <thead>\n",
              "    <tr style=\"text-align: right;\">\n",
              "      <th></th>\n",
              "      <th>mensaje</th>\n",
              "      <th>sentimiento</th>\n",
              "      <th>Preprocessed_text</th>\n",
              "    </tr>\n",
              "  </thead>\n",
              "  <tbody>\n",
              "    <tr>\n",
              "      <th>2</th>\n",
              "      <td>$NVDA AI Usecases for Common man: \\n\\nCopilot ...</td>\n",
              "      <td>1</td>\n",
              "      <td>ai usecases for common man copilot from i use...</td>\n",
              "    </tr>\n",
              "    <tr>\n",
              "      <th>3</th>\n",
              "      <td>$ASTS $GOOGL $VOD $T \\nASTS v Starlink and why...</td>\n",
              "      <td>1</td>\n",
              "      <td>asts v starlink and why starlink have gone ru...</td>\n",
              "    </tr>\n",
              "    <tr>\n",
              "      <th>6</th>\n",
              "      <td>$GOOGL Waymo’s everywhere in CA! Soon they wil...</td>\n",
              "      <td>1</td>\n",
              "      <td>waymos everywhere in ca soon they will take o...</td>\n",
              "    </tr>\n",
              "    <tr>\n",
              "      <th>11</th>\n",
              "      <td>$GOOGL $222.66 % locked in 💰💰💰\\nSPY $328% lock...</td>\n",
              "      <td>1</td>\n",
              "      <td>locked in ddegddegddeg spy locked in</td>\n",
              "    </tr>\n",
              "    <tr>\n",
              "      <th>12</th>\n",
              "      <td>$GOOGL Waymo says it has doubled its weekly pa...</td>\n",
              "      <td>1</td>\n",
              "      <td>waymo says it has doubled its weekly paid rob...</td>\n",
              "    </tr>\n",
              "    <tr>\n",
              "      <th>14</th>\n",
              "      <td>$bidu $GOOGL  chinese. google is selling off b...</td>\n",
              "      <td>1</td>\n",
              "      <td>chinese google is selling off before er it is...</td>\n",
              "    </tr>\n",
              "    <tr>\n",
              "      <th>15</th>\n",
              "      <td>Alphabet Inc. $GOOGL is trending on Reddit htt...</td>\n",
              "      <td>1</td>\n",
              "      <td>alphabet inc is trending on reddit</td>\n",
              "    </tr>\n",
              "    <tr>\n",
              "      <th>16</th>\n",
              "      <td>$GOOGL $GOOG yesterday&amp;#39;s entry.</td>\n",
              "      <td>1</td>\n",
              "      <td>yesterday39s entry</td>\n",
              "    </tr>\n",
              "    <tr>\n",
              "      <th>30</th>\n",
              "      <td>$PDD same same . Also, $GOOGL has been condens...</td>\n",
              "      <td>1</td>\n",
              "      <td>same same also has been condensed recently an...</td>\n",
              "    </tr>\n",
              "    <tr>\n",
              "      <th>32</th>\n",
              "      <td>$GOOGL 180 calls by sep 20</td>\n",
              "      <td>1</td>\n",
              "      <td>180 calls by sep 20</td>\n",
              "    </tr>\n",
              "  </tbody>\n",
              "</table>\n",
              "</div>"
            ],
            "text/plain": [
              "                                              mensaje  sentimiento  \\\n",
              "2   $NVDA AI Usecases for Common man: \\n\\nCopilot ...            1   \n",
              "3   $ASTS $GOOGL $VOD $T \\nASTS v Starlink and why...            1   \n",
              "6   $GOOGL Waymo’s everywhere in CA! Soon they wil...            1   \n",
              "11  $GOOGL $222.66 % locked in 💰💰💰\\nSPY $328% lock...            1   \n",
              "12  $GOOGL Waymo says it has doubled its weekly pa...            1   \n",
              "14  $bidu $GOOGL  chinese. google is selling off b...            1   \n",
              "15  Alphabet Inc. $GOOGL is trending on Reddit htt...            1   \n",
              "16                $GOOGL $GOOG yesterday&#39;s entry.            1   \n",
              "30  $PDD same same . Also, $GOOGL has been condens...            1   \n",
              "32                         $GOOGL 180 calls by sep 20            1   \n",
              "\n",
              "                                    Preprocessed_text  \n",
              "2    ai usecases for common man copilot from i use...  \n",
              "3    asts v starlink and why starlink have gone ru...  \n",
              "6    waymos everywhere in ca soon they will take o...  \n",
              "11               locked in ddegddegddeg spy locked in  \n",
              "12   waymo says it has doubled its weekly paid rob...  \n",
              "14   chinese google is selling off before er it is...  \n",
              "15                alphabet inc is trending on reddit   \n",
              "16                                 yesterday39s entry  \n",
              "30   same same also has been condensed recently an...  \n",
              "32                                180 calls by sep 20  "
            ]
          },
          "metadata": {},
          "output_type": "display_data"
        }
      ],
      "source": [
        "df_new = df_new.dropna(subset=['sentimiento'])\n",
        "print(df_new['sentimiento'].value_counts())\n",
        "display(len(df_new))\n",
        "df_new['sentimiento'] = df_new['sentimiento'].apply(lambda x: 1 if x == 'Bullish' else 0)\n",
        "# Eliminar registros con valores NaN en la columna 'msg'\n",
        "df_new = df_new.dropna(subset=['mensaje'])\n",
        "df_new['mensaje'] = df_new['mensaje'].astype(str)\n",
        "# Preprocesamiento de los nuevos tweets\n",
        "df_new['Preprocessed_text'] = df_new['mensaje'].apply(preprocess_tweet)\n",
        "df_new = df_new[df_new['Preprocessed_text'].str.strip().astype(bool)]\n",
        "df_new = df_new.dropna(subset=['Preprocessed_text'])\n",
        "\n",
        "display(df_new.head(10))"
      ]
    },
    {
      "cell_type": "code",
      "execution_count": null,
      "metadata": {
        "id": "4qdk1LYj0KWY",
        "outputId": "85cefa4e-8a84-4534-ac03-72f21e966ee0"
      },
      "outputs": [
        {
          "name": "stdout",
          "output_type": "stream",
          "text": [
            "\u001b[1m277/277\u001b[0m \u001b[32m━━━━━━━━━━━━━━━━━━━━\u001b[0m\u001b[37m\u001b[0m \u001b[1m0s\u001b[0m 2ms/step\n"
          ]
        },
        {
          "data": {
            "image/png": "[encoded data removed]",
            "text/plain": [
              "<Figure size 600x600 with 1 Axes>"
            ]
          },
          "metadata": {},
          "output_type": "display_data"
        },
        {
          "name": "stdout",
          "output_type": "stream",
          "text": [
            "Informe de Clasificación:\n",
            "              precision    recall  f1-score   support\n",
            "\n",
            "           0       0.64      0.47      0.54      2561\n",
            "           1       0.81      0.89      0.85      6294\n",
            "\n",
            "    accuracy                           0.77      8855\n",
            "   macro avg       0.72      0.68      0.69      8855\n",
            "weighted avg       0.76      0.77      0.76      8855\n",
            "\n",
            "Exactitud (Accuracy): 0.7698\n",
            "Precisión (Precision): 0.8918\n",
            "Recall: 0.8053\n",
            "F1-Score: 0.8464\n"
          ]
        }
      ],
      "source": [
        "from sklearn.metrics import confusion_matrix, accuracy_score, precision_score, recall_score, f1_score\n",
        "# Tokenización y padding\n",
        "x_new_seq = tokenizer.texts_to_sequences(df_new['Preprocessed_text'])\n",
        "x_new_seq = pad_sequences(x_new_seq, maxlen=20, padding='post')\n",
        "\n",
        "# Predicción de sentimientos en los nuevos datos\n",
        "predictions = model.predict(x_new_seq)\n",
        "\n",
        "# Convertir probabilidades en etiquetas binarias (0 o 1)\n",
        "predicted_labels = (predictions > 0.50).astype(int)\n",
        "\n",
        "# Asumiendo que tenemos las etiquetas reales en el dataset nuevo para comparación\n",
        "y_true = df_new['sentimiento']  # Ajustar según tu variable objetivo\n",
        "\n",
        "# Generar la matriz de confusión\n",
        "cm = confusion_matrix(y_true, predicted_labels)\n",
        "\n",
        "# Visualizar la matriz de confusión\n",
        "plt.figure(figsize=(6,6))\n",
        "sns.heatmap(cm, annot=True, fmt='d', cmap='Blues', cbar=False,\n",
        "            xticklabels=['Negativo', 'Positivo'], yticklabels=['Negativo', 'Positivo'])\n",
        "plt.xlabel('Predicciones')\n",
        "plt.ylabel('Valores Reales')\n",
        "plt.title('Matriz de Confusión del Análisis de Sentimiento')\n",
        "plt.show()\n",
        "# 3. Informe de clasificación (precision, recall, F1-score)\n",
        "print('Informe de Clasificación:')\n",
        "print(classification_report(predicted_labels, y_true))\n",
        "\n",
        "accuracy = accuracy_score(y_true, predicted_labels)\n",
        "precision = precision_score(y_true, predicted_labels)\n",
        "recall = recall_score(y_true, predicted_labels)\n",
        "f1 = f1_score(y_true, predicted_labels)\n",
        "\n",
        "# Imprimir las métricas\n",
        "print(f'Exactitud (Accuracy): {accuracy:.4f}')\n",
        "print(f'Precisión (Precision): {precision:.4f}')\n",
        "print(f'Recall: {recall:.4f}')\n",
        "print(f'F1-Score: {f1:.4f}')"
      ]
    },
    {
      "cell_type": "code",
      "execution_count": null,
      "metadata": {
        "id": "gZ9qPGsZ0KWY"
      },
      "outputs": [],
      "source": [
        "from tensorflow.keras.models import load_model\n",
        "# Guardar el modelo o continuar el entrenamiento\n",
        "model.save(\"AnalisisSentimientoFinal.keras\")\n",
        "model = load_model('AnalisisSentimientoFinal.keras')"
      ]
    },
    {
      "cell_type": "code",
      "execution_count": null,
      "metadata": {
        "id": "Hbcs7JGt0KWY",
        "outputId": "3aca56e5-0c41-4b8e-afec-3d512b8693d2"
      },
      "outputs": [
        {
          "data": {
            "text/html": [
              "<pre style=\"white-space:pre;overflow-x:auto;line-height:normal;font-family:Menlo,'DejaVu Sans Mono',consolas,'Courier New',monospace\"><span style=\"font-weight: bold\">Model: \"sequential\"</span>\n",
              "</pre>\n"
            ],
            "text/plain": [
              "\u001b[1mModel: \"sequential\"\u001b[0m\n"
            ]
          },
          "metadata": {},
          "output_type": "display_data"
        },
        {
          "data": {
            "text/html": [
              "<pre style=\"white-space:pre;overflow-x:auto;line-height:normal;font-family:Menlo,'DejaVu Sans Mono',consolas,'Courier New',monospace\">┏━━━━━━━━━━━━━━━━━━━━━━━━━━━━━━━━━━━━━━┳━━━━━━━━━━━━━━━━━━━━━━━━━━━━━┳━━━━━━━━━━━━━━━━━┓\n",
              "┃<span style=\"font-weight: bold\"> Layer (type)                         </span>┃<span style=\"font-weight: bold\"> Output Shape                </span>┃<span style=\"font-weight: bold\">         Param # </span>┃\n",
              "┡━━━━━━━━━━━━━━━━━━━━━━━━━━━━━━━━━━━━━━╇━━━━━━━━━━━━━━━━━━━━━━━━━━━━━╇━━━━━━━━━━━━━━━━━┩\n",
              "│ embedding (<span style=\"color: #0087ff; text-decoration-color: #0087ff\">Embedding</span>)                │ (<span style=\"color: #00d7ff; text-decoration-color: #00d7ff\">None</span>, <span style=\"color: #00af00; text-decoration-color: #00af00\">20</span>, <span style=\"color: #00af00; text-decoration-color: #00af00\">100</span>)             │       <span style=\"color: #00af00; text-decoration-color: #00af00\">7,629,300</span> │\n",
              "├──────────────────────────────────────┼─────────────────────────────┼─────────────────┤\n",
              "│ dropout (<span style=\"color: #0087ff; text-decoration-color: #0087ff\">Dropout</span>)                    │ (<span style=\"color: #00d7ff; text-decoration-color: #00d7ff\">None</span>, <span style=\"color: #00af00; text-decoration-color: #00af00\">20</span>, <span style=\"color: #00af00; text-decoration-color: #00af00\">100</span>)             │               <span style=\"color: #00af00; text-decoration-color: #00af00\">0</span> │\n",
              "├──────────────────────────────────────┼─────────────────────────────┼─────────────────┤\n",
              "│ conv1d (<span style=\"color: #0087ff; text-decoration-color: #0087ff\">Conv1D</span>)                      │ (<span style=\"color: #00d7ff; text-decoration-color: #00d7ff\">None</span>, <span style=\"color: #00af00; text-decoration-color: #00af00\">20</span>, <span style=\"color: #00af00; text-decoration-color: #00af00\">100</span>)             │          <span style=\"color: #00af00; text-decoration-color: #00af00\">30,100</span> │\n",
              "├──────────────────────────────────────┼─────────────────────────────┼─────────────────┤\n",
              "│ conv1d_1 (<span style=\"color: #0087ff; text-decoration-color: #0087ff\">Conv1D</span>)                    │ (<span style=\"color: #00d7ff; text-decoration-color: #00d7ff\">None</span>, <span style=\"color: #00af00; text-decoration-color: #00af00\">20</span>, <span style=\"color: #00af00; text-decoration-color: #00af00\">100</span>)             │          <span style=\"color: #00af00; text-decoration-color: #00af00\">30,100</span> │\n",
              "├──────────────────────────────────────┼─────────────────────────────┼─────────────────┤\n",
              "│ conv1d_2 (<span style=\"color: #0087ff; text-decoration-color: #0087ff\">Conv1D</span>)                    │ (<span style=\"color: #00d7ff; text-decoration-color: #00d7ff\">None</span>, <span style=\"color: #00af00; text-decoration-color: #00af00\">20</span>, <span style=\"color: #00af00; text-decoration-color: #00af00\">100</span>)             │          <span style=\"color: #00af00; text-decoration-color: #00af00\">30,100</span> │\n",
              "├──────────────────────────────────────┼─────────────────────────────┼─────────────────┤\n",
              "│ global_max_pooling1d                 │ (<span style=\"color: #00d7ff; text-decoration-color: #00d7ff\">None</span>, <span style=\"color: #00af00; text-decoration-color: #00af00\">100</span>)                 │               <span style=\"color: #00af00; text-decoration-color: #00af00\">0</span> │\n",
              "│ (<span style=\"color: #0087ff; text-decoration-color: #0087ff\">GlobalMaxPooling1D</span>)                 │                             │                 │\n",
              "├──────────────────────────────────────┼─────────────────────────────┼─────────────────┤\n",
              "│ dropout_1 (<span style=\"color: #0087ff; text-decoration-color: #0087ff\">Dropout</span>)                  │ (<span style=\"color: #00d7ff; text-decoration-color: #00d7ff\">None</span>, <span style=\"color: #00af00; text-decoration-color: #00af00\">100</span>)                 │               <span style=\"color: #00af00; text-decoration-color: #00af00\">0</span> │\n",
              "├──────────────────────────────────────┼─────────────────────────────┼─────────────────┤\n",
              "│ dense (<span style=\"color: #0087ff; text-decoration-color: #0087ff\">Dense</span>)                        │ (<span style=\"color: #00d7ff; text-decoration-color: #00d7ff\">None</span>, <span style=\"color: #00af00; text-decoration-color: #00af00\">150</span>)                 │          <span style=\"color: #00af00; text-decoration-color: #00af00\">15,150</span> │\n",
              "├──────────────────────────────────────┼─────────────────────────────┼─────────────────┤\n",
              "│ dropout_2 (<span style=\"color: #0087ff; text-decoration-color: #0087ff\">Dropout</span>)                  │ (<span style=\"color: #00d7ff; text-decoration-color: #00d7ff\">None</span>, <span style=\"color: #00af00; text-decoration-color: #00af00\">150</span>)                 │               <span style=\"color: #00af00; text-decoration-color: #00af00\">0</span> │\n",
              "├──────────────────────────────────────┼─────────────────────────────┼─────────────────┤\n",
              "│ dense_1 (<span style=\"color: #0087ff; text-decoration-color: #0087ff\">Dense</span>)                      │ (<span style=\"color: #00d7ff; text-decoration-color: #00d7ff\">None</span>, <span style=\"color: #00af00; text-decoration-color: #00af00\">1</span>)                   │             <span style=\"color: #00af00; text-decoration-color: #00af00\">151</span> │\n",
              "└──────────────────────────────────────┴─────────────────────────────┴─────────────────┘\n",
              "</pre>\n"
            ],
            "text/plain": [
              "┏━━━━━━━━━━━━━━━━━━━━━━━━━━━━━━━━━━━━━━┳━━━━━━━━━━━━━━━━━━━━━━━━━━━━━┳━━━━━━━━━━━━━━━━━┓\n",
              "┃\u001b[1m \u001b[0m\u001b[1mLayer (type)                        \u001b[0m\u001b[1m \u001b[0m┃\u001b[1m \u001b[0m\u001b[1mOutput Shape               \u001b[0m\u001b[1m \u001b[0m┃\u001b[1m \u001b[0m\u001b[1m        Param #\u001b[0m\u001b[1m \u001b[0m┃\n",
              "┡━━━━━━━━━━━━━━━━━━━━━━━━━━━━━━━━━━━━━━╇━━━━━━━━━━━━━━━━━━━━━━━━━━━━━╇━━━━━━━━━━━━━━━━━┩\n",
              "│ embedding (\u001b[38;5;33mEmbedding\u001b[0m)                │ (\u001b[38;5;45mNone\u001b[0m, \u001b[38;5;34m20\u001b[0m, \u001b[38;5;34m100\u001b[0m)             │       \u001b[38;5;34m7,629,300\u001b[0m │\n",
              "├──────────────────────────────────────┼─────────────────────────────┼─────────────────┤\n",
              "│ dropout (\u001b[38;5;33mDropout\u001b[0m)                    │ (\u001b[38;5;45mNone\u001b[0m, \u001b[38;5;34m20\u001b[0m, \u001b[38;5;34m100\u001b[0m)             │               \u001b[38;5;34m0\u001b[0m │\n",
              "├──────────────────────────────────────┼─────────────────────────────┼─────────────────┤\n",
              "│ conv1d (\u001b[38;5;33mConv1D\u001b[0m)                      │ (\u001b[38;5;45mNone\u001b[0m, \u001b[38;5;34m20\u001b[0m, \u001b[38;5;34m100\u001b[0m)             │          \u001b[38;5;34m30,100\u001b[0m │\n",
              "├──────────────────────────────────────┼─────────────────────────────┼─────────────────┤\n",
              "│ conv1d_1 (\u001b[38;5;33mConv1D\u001b[0m)                    │ (\u001b[38;5;45mNone\u001b[0m, \u001b[38;5;34m20\u001b[0m, \u001b[38;5;34m100\u001b[0m)             │          \u001b[38;5;34m30,100\u001b[0m │\n",
              "├──────────────────────────────────────┼─────────────────────────────┼─────────────────┤\n",
              "│ conv1d_2 (\u001b[38;5;33mConv1D\u001b[0m)                    │ (\u001b[38;5;45mNone\u001b[0m, \u001b[38;5;34m20\u001b[0m, \u001b[38;5;34m100\u001b[0m)             │          \u001b[38;5;34m30,100\u001b[0m │\n",
              "├──────────────────────────────────────┼─────────────────────────────┼─────────────────┤\n",
              "│ global_max_pooling1d                 │ (\u001b[38;5;45mNone\u001b[0m, \u001b[38;5;34m100\u001b[0m)                 │               \u001b[38;5;34m0\u001b[0m │\n",
              "│ (\u001b[38;5;33mGlobalMaxPooling1D\u001b[0m)                 │                             │                 │\n",
              "├──────────────────────────────────────┼─────────────────────────────┼─────────────────┤\n",
              "│ dropout_1 (\u001b[38;5;33mDropout\u001b[0m)                  │ (\u001b[38;5;45mNone\u001b[0m, \u001b[38;5;34m100\u001b[0m)                 │               \u001b[38;5;34m0\u001b[0m │\n",
              "├──────────────────────────────────────┼─────────────────────────────┼─────────────────┤\n",
              "│ dense (\u001b[38;5;33mDense\u001b[0m)                        │ (\u001b[38;5;45mNone\u001b[0m, \u001b[38;5;34m150\u001b[0m)                 │          \u001b[38;5;34m15,150\u001b[0m │\n",
              "├──────────────────────────────────────┼─────────────────────────────┼─────────────────┤\n",
              "│ dropout_2 (\u001b[38;5;33mDropout\u001b[0m)                  │ (\u001b[38;5;45mNone\u001b[0m, \u001b[38;5;34m150\u001b[0m)                 │               \u001b[38;5;34m0\u001b[0m │\n",
              "├──────────────────────────────────────┼─────────────────────────────┼─────────────────┤\n",
              "│ dense_1 (\u001b[38;5;33mDense\u001b[0m)                      │ (\u001b[38;5;45mNone\u001b[0m, \u001b[38;5;34m1\u001b[0m)                   │             \u001b[38;5;34m151\u001b[0m │\n",
              "└──────────────────────────────────────┴─────────────────────────────┴─────────────────┘\n"
            ]
          },
          "metadata": {},
          "output_type": "display_data"
        },
        {
          "data": {
            "text/html": [
              "<pre style=\"white-space:pre;overflow-x:auto;line-height:normal;font-family:Menlo,'DejaVu Sans Mono',consolas,'Courier New',monospace\"><span style=\"font-weight: bold\"> Total params: </span><span style=\"color: #00af00; text-decoration-color: #00af00\">23,204,705</span> (88.52 MB)\n",
              "</pre>\n"
            ],
            "text/plain": [
              "\u001b[1m Total params: \u001b[0m\u001b[38;5;34m23,204,705\u001b[0m (88.52 MB)\n"
            ]
          },
          "metadata": {},
          "output_type": "display_data"
        },
        {
          "data": {
            "text/html": [
              "<pre style=\"white-space:pre;overflow-x:auto;line-height:normal;font-family:Menlo,'DejaVu Sans Mono',consolas,'Courier New',monospace\"><span style=\"font-weight: bold\"> Trainable params: </span><span style=\"color: #00af00; text-decoration-color: #00af00\">7,734,901</span> (29.51 MB)\n",
              "</pre>\n"
            ],
            "text/plain": [
              "\u001b[1m Trainable params: \u001b[0m\u001b[38;5;34m7,734,901\u001b[0m (29.51 MB)\n"
            ]
          },
          "metadata": {},
          "output_type": "display_data"
        },
        {
          "data": {
            "text/html": [
              "<pre style=\"white-space:pre;overflow-x:auto;line-height:normal;font-family:Menlo,'DejaVu Sans Mono',consolas,'Courier New',monospace\"><span style=\"font-weight: bold\"> Non-trainable params: </span><span style=\"color: #00af00; text-decoration-color: #00af00\">0</span> (0.00 B)\n",
              "</pre>\n"
            ],
            "text/plain": [
              "\u001b[1m Non-trainable params: \u001b[0m\u001b[38;5;34m0\u001b[0m (0.00 B)\n"
            ]
          },
          "metadata": {},
          "output_type": "display_data"
        },
        {
          "data": {
            "text/html": [
              "<pre style=\"white-space:pre;overflow-x:auto;line-height:normal;font-family:Menlo,'DejaVu Sans Mono',consolas,'Courier New',monospace\"><span style=\"font-weight: bold\"> Optimizer params: </span><span style=\"color: #00af00; text-decoration-color: #00af00\">15,469,804</span> (59.01 MB)\n",
              "</pre>\n"
            ],
            "text/plain": [
              "\u001b[1m Optimizer params: \u001b[0m\u001b[38;5;34m15,469,804\u001b[0m (59.01 MB)\n"
            ]
          },
          "metadata": {},
          "output_type": "display_data"
        }
      ],
      "source": [
        "model.summary()"
      ]
    },
    {
      "cell_type": "code",
      "execution_count": null,
      "metadata": {
        "id": "Wk8OlMXp0KWY"
      },
      "outputs": [],
      "source": []
    }
  ],
  "metadata": {
    "colab": {
      "provenance": [],
      "include_colab_link": true
    },
    "kernelspec": {
      "display_name": "Python 3 (ipykernel)",
      "language": "python",
      "name": "python3"
    },
    "language_info": {
      "codemirror_mode": {
        "name": "ipython",
        "version": 3
      },
      "file_extension": ".py",
      "mimetype": "text/x-python",
      "name": "python",
      "nbconvert_exporter": "python",
      "pygments_lexer": "ipython3",
      "version": "3.9.9"
    }
  },
  "nbformat": 4,
  "nbformat_minor": 0
}